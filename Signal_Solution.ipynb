{
 "cells": [
  {
   "cell_type": "code",
   "execution_count": 2,
   "metadata": {},
   "outputs": [],
   "source": [
    "import tensorflow as tf\n",
    "import pandas as pd # Pandas DataFrame\n",
    "import numpy as np # Numpy array manipulation\n",
    "from sklearn.decomposition import PCA # Princible Component Analysis\n",
    "from sklearn.impute import SimpleImputer # Missing value imputation"
   ]
  },
  {
   "cell_type": "code",
   "execution_count": 3,
   "metadata": {},
   "outputs": [],
   "source": [
    "# Load data from CSV\n",
    "training_data = pd.read_csv('train_signal.csv')"
   ]
  },
  {
   "cell_type": "code",
   "execution_count": 4,
   "metadata": {},
   "outputs": [
    {
     "data": {
      "text/html": [
       "<div>\n",
       "<style scoped>\n",
       "    .dataframe tbody tr th:only-of-type {\n",
       "        vertical-align: middle;\n",
       "    }\n",
       "\n",
       "    .dataframe tbody tr th {\n",
       "        vertical-align: top;\n",
       "    }\n",
       "\n",
       "    .dataframe thead th {\n",
       "        text-align: right;\n",
       "    }\n",
       "</style>\n",
       "<table border=\"1\" class=\"dataframe\">\n",
       "  <thead>\n",
       "    <tr style=\"text-align: right;\">\n",
       "      <th></th>\n",
       "      <th>ID</th>\n",
       "      <th>Type</th>\n",
       "      <th>X0</th>\n",
       "      <th>X1</th>\n",
       "      <th>X2</th>\n",
       "      <th>X3</th>\n",
       "      <th>X4</th>\n",
       "      <th>X5</th>\n",
       "      <th>X6</th>\n",
       "      <th>X7</th>\n",
       "      <th>...</th>\n",
       "      <th>X5990</th>\n",
       "      <th>X5991</th>\n",
       "      <th>X5992</th>\n",
       "      <th>X5993</th>\n",
       "      <th>X5994</th>\n",
       "      <th>X5995</th>\n",
       "      <th>X5996</th>\n",
       "      <th>X5997</th>\n",
       "      <th>X5998</th>\n",
       "      <th>X5999</th>\n",
       "    </tr>\n",
       "  </thead>\n",
       "  <tbody>\n",
       "    <tr>\n",
       "      <th>0</th>\n",
       "      <td>B00000</td>\n",
       "      <td>N</td>\n",
       "      <td>-0.107</td>\n",
       "      <td>-0.100</td>\n",
       "      <td>-0.086</td>\n",
       "      <td>-0.078</td>\n",
       "      <td>-0.071</td>\n",
       "      <td>-0.057</td>\n",
       "      <td>-0.049</td>\n",
       "      <td>-0.035</td>\n",
       "      <td>...</td>\n",
       "      <td>-1.108</td>\n",
       "      <td>-1.072</td>\n",
       "      <td>-1.028</td>\n",
       "      <td>-0.978</td>\n",
       "      <td>-0.912</td>\n",
       "      <td>-0.862</td>\n",
       "      <td>-0.804</td>\n",
       "      <td>-0.724</td>\n",
       "      <td>-0.630</td>\n",
       "      <td>-0.499</td>\n",
       "    </tr>\n",
       "    <tr>\n",
       "      <th>1</th>\n",
       "      <td>B00001</td>\n",
       "      <td>N</td>\n",
       "      <td>2.762</td>\n",
       "      <td>3.313</td>\n",
       "      <td>3.863</td>\n",
       "      <td>4.292</td>\n",
       "      <td>4.594</td>\n",
       "      <td>4.623</td>\n",
       "      <td>4.408</td>\n",
       "      <td>3.817</td>\n",
       "      <td>...</td>\n",
       "      <td>-0.107</td>\n",
       "      <td>0.003</td>\n",
       "      <td>0.148</td>\n",
       "      <td>0.241</td>\n",
       "      <td>0.310</td>\n",
       "      <td>0.345</td>\n",
       "      <td>0.368</td>\n",
       "      <td>0.397</td>\n",
       "      <td>0.426</td>\n",
       "      <td>0.438</td>\n",
       "    </tr>\n",
       "    <tr>\n",
       "      <th>2</th>\n",
       "      <td>B00002</td>\n",
       "      <td>N</td>\n",
       "      <td>-0.246</td>\n",
       "      <td>-0.200</td>\n",
       "      <td>-0.159</td>\n",
       "      <td>-0.125</td>\n",
       "      <td>-0.101</td>\n",
       "      <td>-0.090</td>\n",
       "      <td>-0.084</td>\n",
       "      <td>-0.078</td>\n",
       "      <td>...</td>\n",
       "      <td>-0.113</td>\n",
       "      <td>-0.038</td>\n",
       "      <td>0.032</td>\n",
       "      <td>0.107</td>\n",
       "      <td>0.165</td>\n",
       "      <td>0.194</td>\n",
       "      <td>0.194</td>\n",
       "      <td>0.159</td>\n",
       "      <td>0.119</td>\n",
       "      <td>0.072</td>\n",
       "    </tr>\n",
       "    <tr>\n",
       "      <th>3</th>\n",
       "      <td>B00003</td>\n",
       "      <td>~</td>\n",
       "      <td>0.519</td>\n",
       "      <td>0.778</td>\n",
       "      <td>1.073</td>\n",
       "      <td>1.392</td>\n",
       "      <td>1.672</td>\n",
       "      <td>1.895</td>\n",
       "      <td>2.012</td>\n",
       "      <td>2.023</td>\n",
       "      <td>...</td>\n",
       "      <td>0.037</td>\n",
       "      <td>-0.052</td>\n",
       "      <td>-0.084</td>\n",
       "      <td>-0.099</td>\n",
       "      <td>-0.101</td>\n",
       "      <td>-0.090</td>\n",
       "      <td>-0.067</td>\n",
       "      <td>0.003</td>\n",
       "      <td>0.096</td>\n",
       "      <td>0.179</td>\n",
       "    </tr>\n",
       "    <tr>\n",
       "      <th>4</th>\n",
       "      <td>B00004</td>\n",
       "      <td>~</td>\n",
       "      <td>0.011</td>\n",
       "      <td>-0.103</td>\n",
       "      <td>-0.265</td>\n",
       "      <td>-0.371</td>\n",
       "      <td>-0.409</td>\n",
       "      <td>-0.422</td>\n",
       "      <td>-0.418</td>\n",
       "      <td>-0.411</td>\n",
       "      <td>...</td>\n",
       "      <td>0.776</td>\n",
       "      <td>0.829</td>\n",
       "      <td>0.763</td>\n",
       "      <td>0.481</td>\n",
       "      <td>0.126</td>\n",
       "      <td>-0.144</td>\n",
       "      <td>-0.224</td>\n",
       "      <td>-0.250</td>\n",
       "      <td>-0.222</td>\n",
       "      <td>-0.207</td>\n",
       "    </tr>\n",
       "  </tbody>\n",
       "</table>\n",
       "<p>5 rows × 6002 columns</p>\n",
       "</div>"
      ],
      "text/plain": [
       "       ID Type     X0     X1     X2     X3     X4     X5     X6     X7  ...  \\\n",
       "0  B00000    N -0.107 -0.100 -0.086 -0.078 -0.071 -0.057 -0.049 -0.035  ...   \n",
       "1  B00001    N  2.762  3.313  3.863  4.292  4.594  4.623  4.408  3.817  ...   \n",
       "2  B00002    N -0.246 -0.200 -0.159 -0.125 -0.101 -0.090 -0.084 -0.078  ...   \n",
       "3  B00003    ~  0.519  0.778  1.073  1.392  1.672  1.895  2.012  2.023  ...   \n",
       "4  B00004    ~  0.011 -0.103 -0.265 -0.371 -0.409 -0.422 -0.418 -0.411  ...   \n",
       "\n",
       "   X5990  X5991  X5992  X5993  X5994  X5995  X5996  X5997  X5998  X5999  \n",
       "0 -1.108 -1.072 -1.028 -0.978 -0.912 -0.862 -0.804 -0.724 -0.630 -0.499  \n",
       "1 -0.107  0.003  0.148  0.241  0.310  0.345  0.368  0.397  0.426  0.438  \n",
       "2 -0.113 -0.038  0.032  0.107  0.165  0.194  0.194  0.159  0.119  0.072  \n",
       "3  0.037 -0.052 -0.084 -0.099 -0.101 -0.090 -0.067  0.003  0.096  0.179  \n",
       "4  0.776  0.829  0.763  0.481  0.126 -0.144 -0.224 -0.250 -0.222 -0.207  \n",
       "\n",
       "[5 rows x 6002 columns]"
      ]
     },
     "execution_count": 4,
     "metadata": {},
     "output_type": "execute_result"
    }
   ],
   "source": [
    "# Peek at the data\n",
    "training_data.head()"
   ]
  },
  {
   "cell_type": "code",
   "execution_count": 5,
   "metadata": {},
   "outputs": [],
   "source": [
    "# Split into labels (y) and input (X)\n",
    "\n",
    "# Data from the 3rd feature column onwards are input\n",
    "X = training_data.values[:,2:]\n",
    "# Classes/Labels are the type of AF\n",
    "y = training_data[\"Type\"].values"
   ]
  },
  {
   "cell_type": "code",
   "execution_count": 6,
   "metadata": {},
   "outputs": [
    {
     "name": "stdout",
     "output_type": "stream",
     "text": [
      "X shape:  (13062, 6000)\n",
      "y shape:  (13062,)\n"
     ]
    }
   ],
   "source": [
    "#print(f\"X shape: {X.shape}, y shape: {y.shape}\")\n",
    "print(\"X shape:  \" + str(X.shape))\n",
    "print(\"y shape:  \" + str(y.shape))"
   ]
  },
  {
   "cell_type": "code",
   "execution_count": 7,
   "metadata": {},
   "outputs": [
    {
     "name": "stderr",
     "output_type": "stream",
     "text": [
      "Using TensorFlow backend.\n"
     ]
    }
   ],
   "source": [
    "from keras.utils import to_categorical # Multi-class labels converted to one-hot encoded categories\n",
    "from sklearn.preprocessing import LabelEncoder # Enumeration for labels"
   ]
  },
  {
   "cell_type": "code",
   "execution_count": 8,
   "metadata": {},
   "outputs": [
    {
     "name": "stdout",
     "output_type": "stream",
     "text": [
      "(13062,)\n",
      "(13062, 4)\n"
     ]
    }
   ],
   "source": [
    "# Convert class labels to integers to then one-hot encode\n",
    "\n",
    "# Encode class values as integers\n",
    "encoder = LabelEncoder()\n",
    "encoder.fit(y)\n",
    "encoded_Y = encoder.transform(y)\n",
    "\n",
    "# One-hot encode\n",
    "print(y.shape)\n",
    "y = to_categorical(encoded_Y)\n",
    "print(y.shape)"
   ]
  },
  {
   "cell_type": "code",
   "execution_count": 11,
   "metadata": {},
   "outputs": [
    {
     "name": "stderr",
     "output_type": "stream",
     "text": [
      "c:\\users\\morgan\\docume~1\\progra~1\\python~2\\venv\\lib\\site-packages\\ipykernel_launcher.py:4: FutureWarning: elementwise comparison failed; returning scalar instead, but in the future will perform elementwise comparison\n",
      "  after removing the cwd from sys.path.\n"
     ]
    }
   ],
   "source": [
    "# Deal with missing data\n",
    "\n",
    "# Replace missing values with Nan\n",
    "X[X == ''] = np.nan\n",
    "\n",
    "# np.any(np.isnan(X))\n",
    "\n",
    "# Replace Nan with median\n",
    "imputer = SimpleImputer(missing_values=np.nan, strategy='mean')\n",
    "X = imputer.fit_transform(X)"
   ]
  },
  {
   "cell_type": "code",
   "execution_count": 12,
   "metadata": {},
   "outputs": [
    {
     "name": "stdout",
     "output_type": "stream",
     "text": [
      "(13062, 6000)\n"
     ]
    }
   ],
   "source": [
    "# Reshape array to 3D because LSTM requires timesteps (13062, 20, 300)\n",
    "\n",
    "print(X.shape)\n",
    "#X3d = X.reshape((13062, 20, 300))\n",
    "# #X3d = X.reshape(X.shape[0],X.shape[1],1)\n",
    "# print(X3d.shape)"
   ]
  },
  {
   "cell_type": "code",
   "execution_count": 13,
   "metadata": {},
   "outputs": [
    {
     "name": "stdout",
     "output_type": "stream",
     "text": [
      "[[-0.107 -0.1   -0.086 ... -0.724 -0.63  -0.499]\n",
      " [ 2.762  3.313  3.863 ...  0.397  0.426  0.438]\n",
      " [-0.246 -0.2   -0.159 ...  0.159  0.119  0.072]\n",
      " ...\n",
      " [-0.364 -0.395 -0.434 ... -0.834 -0.632 -0.472]\n",
      " [-0.285 -0.475 -0.596 ...  0.77   0.764  0.754]\n",
      " [ 0.975  0.935  0.87  ... -0.109 -0.114 -0.119]]\n"
     ]
    }
   ],
   "source": [
    "print(X)"
   ]
  },
  {
   "cell_type": "code",
   "execution_count": null,
   "metadata": {},
   "outputs": [],
   "source": []
  },
  {
   "cell_type": "code",
   "execution_count": 11,
   "metadata": {
    "scrolled": true
   },
   "outputs": [],
   "source": [
    "# BROKEN\n",
    "\n",
    "# X3d_pca = np.empty((13062, 20, 30))\n",
    "\n",
    "# print(X3d.shape)\n",
    "\n",
    "# for x in range(0,len(X3d)):\n",
    "#         pca = PCA(n_components=30) # reduce to 60 dimensions\n",
    "#         pca.fit(X3d[x])\n",
    "#         X3d_pca[x] = pca.transform(X3d[x])\n",
    "        \n",
    "# X3d_pca.shape()\n",
    "\n",
    "\n",
    "# # Reduce dimensions of data to make neural networks easier to train, prevent overfitting & remove noise\n",
    "\n",
    "# pca = PCA(n_components=60) # reduce to 60 dimensions\n",
    "# pca.fit(X3d)\n",
    "\n",
    "# print(X3d.shape)\n",
    "# X3d_pca = pca.transform(X3d)\n",
    "# print(X3d_pca.shape) "
   ]
  },
  {
   "cell_type": "code",
   "execution_count": 14,
   "metadata": {},
   "outputs": [],
   "source": [
    "from keras.preprocessing import sequence # Keras input preprocessing\n",
    "from keras.models import Sequential # Keras model types\n",
    "from keras.layers import Dense, Dropout, Activation # Keras model layers\n",
    "from keras.layers import Embedding, LSTM\n",
    "from keras.layers import Input, Dense, concatenate, Activation\n",
    "from keras.layers import Conv1D, GlobalMaxPooling1D, MaxPooling1D\n",
    "from keras.layers import BatchNormalization, GlobalAveragePooling1D, Permute, Dropout\n",
    "from keras.losses import categorical_crossentropy\n",
    "from keras.optimizers import SGD, Adam\n",
    "from keras.models import Model"
   ]
  },
  {
   "cell_type": "code",
   "execution_count": 15,
   "metadata": {},
   "outputs": [],
   "source": [
    "def lstm_fcn_block():\n",
    "    ip = Input(shape = (1, 6000))\n",
    "    \n",
    "    # Recurrent side\n",
    "    x = LSTM(8)(ip)\n",
    "    x = Dropout(0.2)(x)\n",
    "\n",
    "    # Fully Convolutional Side\n",
    "    y = Permute((2, 1))(ip)\n",
    "    y = Conv1D(128, 8, padding = \"same\", kernel_initializer = \"he_uniform\")(y)\n",
    "    y = BatchNormalization()(y)\n",
    "    y = Activation(\"relu\")(y)\n",
    "\n",
    "    y = Conv1D(256, 5, padding = \"same\", kernel_initializer = \"he_uniform\")(y)\n",
    "    y = BatchNormalization()(y)\n",
    "    y = Activation(\"relu\")(y)\n",
    "\n",
    "    y = Conv1D(128, 3, padding = \"same\", kernel_initializer = \"he_uniform\")(y)\n",
    "    y = BatchNormalization()(y)\n",
    "    y = Activation(\"relu\")(y)\n",
    "\n",
    "    y = GlobalAveragePooling1D()(y)\n",
    "\n",
    "    # Merge both sides back together\n",
    "    x = concatenate([x, y])\n",
    "    \n",
    "    # 4 output classes over softmax\n",
    "    out = Dense(4, activation = \"softmax\")(x)\n",
    "\n",
    "    model = Model(ip, out)\n",
    "\n",
    "    model.summary()\n",
    "\n",
    "    return model"
   ]
  },
  {
   "cell_type": "code",
   "execution_count": 16,
   "metadata": {},
   "outputs": [
    {
     "name": "stdout",
     "output_type": "stream",
     "text": [
      "Model: \"model_1\"\n",
      "__________________________________________________________________________________________________\n",
      "Layer (type)                    Output Shape         Param #     Connected to                     \n",
      "==================================================================================================\n",
      "input_1 (InputLayer)            (None, 1, 6000)      0                                            \n",
      "__________________________________________________________________________________________________\n",
      "permute_1 (Permute)             (None, 6000, 1)      0           input_1[0][0]                    \n",
      "__________________________________________________________________________________________________\n",
      "conv1d_1 (Conv1D)               (None, 6000, 128)    1152        permute_1[0][0]                  \n",
      "__________________________________________________________________________________________________\n",
      "batch_normalization_1 (BatchNor (None, 6000, 128)    512         conv1d_1[0][0]                   \n",
      "__________________________________________________________________________________________________\n",
      "activation_1 (Activation)       (None, 6000, 128)    0           batch_normalization_1[0][0]      \n",
      "__________________________________________________________________________________________________\n",
      "conv1d_2 (Conv1D)               (None, 6000, 256)    164096      activation_1[0][0]               \n",
      "__________________________________________________________________________________________________\n",
      "batch_normalization_2 (BatchNor (None, 6000, 256)    1024        conv1d_2[0][0]                   \n",
      "__________________________________________________________________________________________________\n",
      "activation_2 (Activation)       (None, 6000, 256)    0           batch_normalization_2[0][0]      \n",
      "__________________________________________________________________________________________________\n",
      "conv1d_3 (Conv1D)               (None, 6000, 128)    98432       activation_2[0][0]               \n",
      "__________________________________________________________________________________________________\n",
      "batch_normalization_3 (BatchNor (None, 6000, 128)    512         conv1d_3[0][0]                   \n",
      "__________________________________________________________________________________________________\n",
      "lstm_1 (LSTM)                   (None, 8)            192288      input_1[0][0]                    \n",
      "__________________________________________________________________________________________________\n",
      "activation_3 (Activation)       (None, 6000, 128)    0           batch_normalization_3[0][0]      \n",
      "__________________________________________________________________________________________________\n",
      "dropout_1 (Dropout)             (None, 8)            0           lstm_1[0][0]                     \n",
      "__________________________________________________________________________________________________\n",
      "global_average_pooling1d_1 (Glo (None, 128)          0           activation_3[0][0]               \n",
      "__________________________________________________________________________________________________\n",
      "concatenate_1 (Concatenate)     (None, 136)          0           dropout_1[0][0]                  \n",
      "                                                                 global_average_pooling1d_1[0][0] \n",
      "__________________________________________________________________________________________________\n",
      "dense_1 (Dense)                 (None, 4)            548         concatenate_1[0][0]              \n",
      "==================================================================================================\n",
      "Total params: 458,564\n",
      "Trainable params: 457,540\n",
      "Non-trainable params: 1,024\n",
      "__________________________________________________________________________________________________\n"
     ]
    }
   ],
   "source": [
    "X_3d = X.reshape((13062, 1, 6000))\n",
    "model = lstm_fcn_block()"
   ]
  },
  {
   "cell_type": "code",
   "execution_count": 18,
   "metadata": {},
   "outputs": [],
   "source": [
    "# Tell model what loss function & optimiser to use\n",
    "model.compile(loss=categorical_crossentropy,\n",
    "              optimizer=Adam(lr=0.01),\n",
    "              metrics=['accuracy',tf.keras.metrics.AUC(),tf.keras.metrics.Precision(),tf.keras.metrics.Recall()])"
   ]
  },
  {
   "cell_type": "code",
   "execution_count": null,
   "metadata": {},
   "outputs": [
    {
     "name": "stdout",
     "output_type": "stream",
     "text": [
      "(13062, 1, 6000)\n",
      "Train on 10885 samples, validate on 2177 samples\n",
      "Epoch 1/3\n",
      "   96/10885 [..............................] - ETA: 1:28:28 - loss: 1.1386 - accuracy: 0.5312 - auc: 0.7424 - precision: 0.3362 - recall: 0.1753      "
     ]
    }
   ],
   "source": [
    "#from IPython.core.debugger import set_trace\n",
    "\n",
    "# print(type(X3d))\n",
    "# print(X3d.ndim)\n",
    "print(X_3d.shape)\n",
    "# print(X3d[0][0][0])\n",
    " \n",
    "model.fit(X_3d, y, epochs=3, batch_size=32, validation_split=1/6)"
   ]
  },
  {
   "cell_type": "code",
   "execution_count": null,
   "metadata": {},
   "outputs": [],
   "source": []
  },
  {
   "cell_type": "code",
   "execution_count": null,
   "metadata": {},
   "outputs": [],
   "source": []
  },
  {
   "cell_type": "code",
   "execution_count": null,
   "metadata": {},
   "outputs": [],
   "source": []
  },
  {
   "cell_type": "code",
   "execution_count": 21,
   "metadata": {},
   "outputs": [],
   "source": [
    "# Load data from CSV\n",
    "test_data = pd.read_csv('test_signal.csv')"
   ]
  },
  {
   "cell_type": "code",
   "execution_count": 22,
   "metadata": {},
   "outputs": [
    {
     "data": {
      "text/html": [
       "<div>\n",
       "<style scoped>\n",
       "    .dataframe tbody tr th:only-of-type {\n",
       "        vertical-align: middle;\n",
       "    }\n",
       "\n",
       "    .dataframe tbody tr th {\n",
       "        vertical-align: top;\n",
       "    }\n",
       "\n",
       "    .dataframe thead th {\n",
       "        text-align: right;\n",
       "    }\n",
       "</style>\n",
       "<table border=\"1\" class=\"dataframe\">\n",
       "  <thead>\n",
       "    <tr style=\"text-align: right;\">\n",
       "      <th></th>\n",
       "      <th>ID</th>\n",
       "      <th>X0</th>\n",
       "      <th>X1</th>\n",
       "      <th>X2</th>\n",
       "      <th>X3</th>\n",
       "      <th>X4</th>\n",
       "      <th>X5</th>\n",
       "      <th>X6</th>\n",
       "      <th>X7</th>\n",
       "      <th>X8</th>\n",
       "      <th>...</th>\n",
       "      <th>X5990</th>\n",
       "      <th>X5991</th>\n",
       "      <th>X5992</th>\n",
       "      <th>X5993</th>\n",
       "      <th>X5994</th>\n",
       "      <th>X5995</th>\n",
       "      <th>X5996</th>\n",
       "      <th>X5997</th>\n",
       "      <th>X5998</th>\n",
       "      <th>X5999</th>\n",
       "    </tr>\n",
       "  </thead>\n",
       "  <tbody>\n",
       "    <tr>\n",
       "      <th>0</th>\n",
       "      <td>C00000</td>\n",
       "      <td>-0.169</td>\n",
       "      <td>-0.174</td>\n",
       "      <td>-0.184</td>\n",
       "      <td>-0.189</td>\n",
       "      <td>-0.200</td>\n",
       "      <td>-0.210</td>\n",
       "      <td>-0.221</td>\n",
       "      <td>-0.226</td>\n",
       "      <td>-0.226</td>\n",
       "      <td>...</td>\n",
       "      <td>0.375</td>\n",
       "      <td>0.386</td>\n",
       "      <td>0.386</td>\n",
       "      <td>0.360</td>\n",
       "      <td>0.323</td>\n",
       "      <td>0.282</td>\n",
       "      <td>0.240</td>\n",
       "      <td>0.184</td>\n",
       "      <td>0.132</td>\n",
       "      <td>0.090</td>\n",
       "    </tr>\n",
       "    <tr>\n",
       "      <th>1</th>\n",
       "      <td>C00001</td>\n",
       "      <td>-0.184</td>\n",
       "      <td>-0.174</td>\n",
       "      <td>-0.169</td>\n",
       "      <td>-0.164</td>\n",
       "      <td>-0.158</td>\n",
       "      <td>-0.158</td>\n",
       "      <td>-0.158</td>\n",
       "      <td>-0.153</td>\n",
       "      <td>-0.153</td>\n",
       "      <td>...</td>\n",
       "      <td>-0.086</td>\n",
       "      <td>-0.117</td>\n",
       "      <td>-0.143</td>\n",
       "      <td>-0.148</td>\n",
       "      <td>-0.153</td>\n",
       "      <td>-0.153</td>\n",
       "      <td>-0.153</td>\n",
       "      <td>-0.153</td>\n",
       "      <td>-0.153</td>\n",
       "      <td>-0.158</td>\n",
       "    </tr>\n",
       "    <tr>\n",
       "      <th>2</th>\n",
       "      <td>C00002</td>\n",
       "      <td>1.050</td>\n",
       "      <td>1.622</td>\n",
       "      <td>2.143</td>\n",
       "      <td>2.552</td>\n",
       "      <td>2.653</td>\n",
       "      <td>2.675</td>\n",
       "      <td>2.614</td>\n",
       "      <td>2.249</td>\n",
       "      <td>1.734</td>\n",
       "      <td>...</td>\n",
       "      <td>-1.342</td>\n",
       "      <td>-1.354</td>\n",
       "      <td>-1.365</td>\n",
       "      <td>-1.370</td>\n",
       "      <td>-1.376</td>\n",
       "      <td>-1.370</td>\n",
       "      <td>-1.365</td>\n",
       "      <td>-1.354</td>\n",
       "      <td>-1.342</td>\n",
       "      <td>-1.326</td>\n",
       "    </tr>\n",
       "    <tr>\n",
       "      <th>3</th>\n",
       "      <td>C00003</td>\n",
       "      <td>2.259</td>\n",
       "      <td>2.667</td>\n",
       "      <td>3.046</td>\n",
       "      <td>3.376</td>\n",
       "      <td>3.583</td>\n",
       "      <td>3.579</td>\n",
       "      <td>3.334</td>\n",
       "      <td>2.872</td>\n",
       "      <td>2.514</td>\n",
       "      <td>...</td>\n",
       "      <td>-0.119</td>\n",
       "      <td>-0.119</td>\n",
       "      <td>-0.119</td>\n",
       "      <td>-0.116</td>\n",
       "      <td>-0.114</td>\n",
       "      <td>-0.109</td>\n",
       "      <td>-0.104</td>\n",
       "      <td>-0.097</td>\n",
       "      <td>-0.090</td>\n",
       "      <td>-0.083</td>\n",
       "    </tr>\n",
       "    <tr>\n",
       "      <th>4</th>\n",
       "      <td>C00004</td>\n",
       "      <td>-0.203</td>\n",
       "      <td>-0.203</td>\n",
       "      <td>-0.201</td>\n",
       "      <td>-0.201</td>\n",
       "      <td>-0.201</td>\n",
       "      <td>-0.199</td>\n",
       "      <td>-0.194</td>\n",
       "      <td>-0.189</td>\n",
       "      <td>-0.185</td>\n",
       "      <td>...</td>\n",
       "      <td>-0.008</td>\n",
       "      <td>0.020</td>\n",
       "      <td>0.039</td>\n",
       "      <td>0.044</td>\n",
       "      <td>0.046</td>\n",
       "      <td>0.046</td>\n",
       "      <td>0.049</td>\n",
       "      <td>0.049</td>\n",
       "      <td>0.051</td>\n",
       "      <td>0.051</td>\n",
       "    </tr>\n",
       "  </tbody>\n",
       "</table>\n",
       "<p>5 rows × 6001 columns</p>\n",
       "</div>"
      ],
      "text/plain": [
       "       ID     X0     X1     X2     X3     X4     X5     X6     X7     X8  ...  \\\n",
       "0  C00000 -0.169 -0.174 -0.184 -0.189 -0.200 -0.210 -0.221 -0.226 -0.226  ...   \n",
       "1  C00001 -0.184 -0.174 -0.169 -0.164 -0.158 -0.158 -0.158 -0.153 -0.153  ...   \n",
       "2  C00002  1.050  1.622  2.143  2.552  2.653  2.675  2.614  2.249  1.734  ...   \n",
       "3  C00003  2.259  2.667  3.046  3.376  3.583  3.579  3.334  2.872  2.514  ...   \n",
       "4  C00004 -0.203 -0.203 -0.201 -0.201 -0.201 -0.199 -0.194 -0.189 -0.185  ...   \n",
       "\n",
       "   X5990  X5991  X5992  X5993  X5994  X5995  X5996  X5997  X5998  X5999  \n",
       "0  0.375  0.386  0.386  0.360  0.323  0.282  0.240  0.184  0.132  0.090  \n",
       "1 -0.086 -0.117 -0.143 -0.148 -0.153 -0.153 -0.153 -0.153 -0.153 -0.158  \n",
       "2 -1.342 -1.354 -1.365 -1.370 -1.376 -1.370 -1.365 -1.354 -1.342 -1.326  \n",
       "3 -0.119 -0.119 -0.119 -0.116 -0.114 -0.109 -0.104 -0.097 -0.090 -0.083  \n",
       "4 -0.008  0.020  0.039  0.044  0.046  0.046  0.049  0.049  0.051  0.051  \n",
       "\n",
       "[5 rows x 6001 columns]"
      ]
     },
     "execution_count": 22,
     "metadata": {},
     "output_type": "execute_result"
    }
   ],
   "source": [
    "# Peek at the data\n",
    "test_data.head()"
   ]
  },
  {
   "cell_type": "code",
   "execution_count": 23,
   "metadata": {},
   "outputs": [],
   "source": [
    "# Split into labels (y) and input (X)\n",
    "\n",
    "# Data from the 3rd feature column onwards are input\n",
    "test_X = test_data.values[:,1:]\n",
    "# Classes/Labels are the type of AF\n",
    "test_ids = test_data[\"ID\"].values"
   ]
  },
  {
   "cell_type": "code",
   "execution_count": 24,
   "metadata": {},
   "outputs": [
    {
     "name": "stdout",
     "output_type": "stream",
     "text": [
      "X shape:  (4000, 6000)\n",
      "Y shape:  (4000,)\n"
     ]
    }
   ],
   "source": [
    "\n",
    "print(\"X shape:  \" + str(test_X.shape))\n",
    "print(\"Y shape:  \" + str(test_ids.shape))"
   ]
  },
  {
   "cell_type": "code",
   "execution_count": 25,
   "metadata": {},
   "outputs": [],
   "source": [
    "# Deal with missing data\n",
    "\n",
    "# Replace missing values with Nan\n",
    "test_X[test_X == ''] = np.nan\n",
    "\n",
    "# np.any(np.isnan(X))\n",
    "\n",
    "# Replace Nan with median\n",
    "imputer = Imputer(missing_values=np.nan, strategy='mean')\n",
    "test_X = imputer.fit_transform(test_X)"
   ]
  },
  {
   "cell_type": "code",
   "execution_count": 28,
   "metadata": {},
   "outputs": [],
   "source": [
    "test_X_3d = test_X.reshape((4000, 20, 300))"
   ]
  },
  {
   "cell_type": "code",
   "execution_count": 29,
   "metadata": {},
   "outputs": [
    {
     "name": "stdout",
     "output_type": "stream",
     "text": [
      "[[6.9736555e-02 6.6803372e-01 2.6197132e-01 2.5837639e-04]\n",
      " [3.7679840e-02 4.9299473e-01 4.6864939e-01 6.7600171e-04]\n",
      " [8.6994402e-02 4.7240233e-01 3.9491361e-01 4.5689661e-02]\n",
      " ...\n",
      " [4.4227779e-02 6.8166524e-01 2.7116537e-01 2.9416245e-03]\n",
      " [9.0921149e-02 5.5948758e-01 3.4698999e-01 2.6013104e-03]\n",
      " [5.5239391e-02 5.5380201e-01 3.8685939e-01 4.0992275e-03]]\n"
     ]
    }
   ],
   "source": [
    "predictions_ontest = model.predict(test_X_3d)\n",
    "print(predictions_ontest)"
   ]
  },
  {
   "cell_type": "code",
   "execution_count": 30,
   "metadata": {},
   "outputs": [
    {
     "name": "stderr",
     "output_type": "stream",
     "text": [
      "/usr/local/lib/python3.5/site-packages/sklearn/preprocessing/label.py:151: DeprecationWarning: The truth value of an empty array is ambiguous. Returning False, but in future this will result in an error. Use `array.size > 0` to check that an array is not empty.\n",
      "  if diff:\n"
     ]
    }
   ],
   "source": [
    "# Decodng output\n",
    "# Softmax -> Integers\n",
    "integer_predictions = tf.argmax(input=predictions_ontest, axis=1)\n",
    "# Integers -> Class lables\n",
    "class_predictions = encoder.inverse_transform(integer_predictions)"
   ]
  },
  {
   "cell_type": "code",
   "execution_count": 31,
   "metadata": {},
   "outputs": [
    {
     "name": "stdout",
     "output_type": "stream",
     "text": [
      "[('C00000', 'N'), ('C00001', 'N'), ('C00002', 'N'), ('C00003', 'N'), ('C00004', 'N'), ('C00005', 'O'), ('C00006', 'N'), ('C00007', 'N'), ('C00008', 'N'), ('C00009', 'N'), ('C00010', 'N'), ('C00011', 'N'), ('C00012', 'O'), ('C00013', 'N'), ('C00014', 'N'), ('C00015', 'N'), ('C00016', 'O'), ('C00017', 'N'), ('C00018', 'O'), ('C00019', 'N'), ('C00020', 'O'), ('C00021', 'N'), ('C00022', 'O'), ('C00023', 'N'), ('C00024', 'N'), ('C00025', 'N'), ('C00026', 'N'), ('C00027', 'N'), ('C00028', 'N'), ('C00029', 'N'), ('C00030', 'N'), ('C00031', 'N'), ('C00032', 'O'), ('C00033', 'N'), ('C00034', 'N'), ('C00035', 'N'), ('C00036', 'N'), ('C00037', 'N'), ('C00038', 'N'), ('C00039', 'N'), ('C00040', 'N'), ('C00041', 'N'), ('C00042', 'N'), ('C00043', 'N'), ('C00044', 'O'), ('C00045', 'N'), ('C00046', 'O'), ('C00047', 'N'), ('C00048', 'N'), ('C00049', 'N'), ('C00050', 'N'), ('C00051', 'N'), ('C00052', 'N'), ('C00053', 'N'), ('C00054', 'N'), ('C00055', 'N'), ('C00056', 'N'), ('C00057', 'N'), ('C00058', 'N'), ('C00059', 'N'), ('C00060', 'O'), ('C00061', 'N'), ('C00062', 'N'), ('C00063', 'O'), ('C00064', 'N'), ('C00065', 'O'), ('C00066', 'N'), ('C00067', 'N'), ('C00068', 'O'), ('C00069', 'O'), ('C00070', 'N'), ('C00071', 'O'), ('C00072', 'O'), ('C00073', 'N'), ('C00074', 'N'), ('C00075', 'O'), ('C00076', 'N'), ('C00077', 'N'), ('C00078', 'N'), ('C00079', 'N'), ('C00080', 'N'), ('C00081', 'O'), ('C00082', 'N'), ('C00083', 'N'), ('C00084', 'N'), ('C00085', 'O'), ('C00086', 'O'), ('C00087', 'N'), ('C00088', 'O'), ('C00089', 'O'), ('C00090', 'N'), ('C00091', 'N'), ('C00092', 'N'), ('C00093', 'N'), ('C00094', 'N'), ('C00095', 'O'), ('C00096', 'O'), ('C00097', 'N'), ('C00098', 'N'), ('C00099', 'N'), ('C00100', 'N'), ('C00101', 'N'), ('C00102', 'O'), ('C00103', 'O'), ('C00104', 'N'), ('C00105', 'N'), ('C00106', 'N'), ('C00107', 'O'), ('C00108', 'N'), ('C00109', 'O'), ('C00110', 'O'), ('C00111', 'N'), ('C00112', 'N'), ('C00113', 'N'), ('C00114', 'N'), ('C00115', 'N'), ('C00116', 'N'), ('C00117', 'N'), ('C00118', 'N'), ('C00119', 'O'), ('C00120', 'N'), ('C00121', 'N'), ('C00122', 'O'), ('C00123', 'N'), ('C00124', 'N'), ('C00125', 'N'), ('C00126', 'O'), ('C00127', 'N'), ('C00128', 'O'), ('C00129', 'O'), ('C00130', 'N'), ('C00131', 'O'), ('C00132', 'N'), ('C00133', 'N'), ('C00134', 'N'), ('C00135', 'O'), ('C00136', 'N'), ('C00137', 'O'), ('C00138', 'N'), ('C00139', 'N'), ('C00140', 'O'), ('C00141', 'N'), ('C00142', 'N'), ('C00143', 'N'), ('C00144', 'O'), ('C00145', 'O'), ('C00146', 'N'), ('C00147', 'N'), ('C00148', 'N'), ('C00149', 'N'), ('C00150', 'N'), ('C00151', 'N'), ('C00152', 'O'), ('C00153', 'N'), ('C00154', 'O'), ('C00155', 'N'), ('C00156', 'N'), ('C00157', 'N'), ('C00158', 'N'), ('C00159', 'O'), ('C00160', 'N'), ('C00161', 'N'), ('C00162', 'N'), ('C00163', 'O'), ('C00164', 'N'), ('C00165', 'N'), ('C00166', 'N'), ('C00167', 'O'), ('C00168', 'O'), ('C00169', 'O'), ('C00170', 'O'), ('C00171', 'O'), ('C00172', 'O'), ('C00173', 'O'), ('C00174', 'O'), ('C00175', 'N'), ('C00176', 'N'), ('C00177', 'N'), ('C00178', 'N'), ('C00179', 'N'), ('C00180', 'O'), ('C00181', 'N'), ('C00182', 'N'), ('C00183', '~'), ('C00184', 'N'), ('C00185', 'N'), ('C00186', 'N'), ('C00187', 'N'), ('C00188', 'O'), ('C00189', 'N'), ('C00190', 'N'), ('C00191', 'O'), ('C00192', 'O'), ('C00193', 'N'), ('C00194', '~'), ('C00195', 'O'), ('C00196', 'N'), ('C00197', 'O'), ('C00198', 'O'), ('C00199', 'O'), ('C00200', 'N'), ('C00201', 'N'), ('C00202', 'N'), ('C00203', 'N'), ('C00204', '~'), ('C00205', 'N'), ('C00206', 'N'), ('C00207', 'N'), ('C00208', 'N'), ('C00209', 'N'), ('C00210', 'N'), ('C00211', 'N'), ('C00212', 'N'), ('C00213', 'N'), ('C00214', 'N'), ('C00215', 'N'), ('C00216', 'O'), ('C00217', 'O'), ('C00218', 'O'), ('C00219', 'N'), ('C00220', 'N'), ('C00221', 'O'), ('C00222', 'N'), ('C00223', 'N'), ('C00224', 'O'), ('C00225', 'N'), ('C00226', 'N'), ('C00227', 'N'), ('C00228', 'O'), ('C00229', 'N'), ('C00230', 'N'), ('C00231', 'N'), ('C00232', 'O'), ('C00233', 'N'), ('C00234', 'N'), ('C00235', 'N'), ('C00236', 'N'), ('C00237', 'N'), ('C00238', 'N'), ('C00239', 'N'), ('C00240', 'N'), ('C00241', 'N'), ('C00242', 'N'), ('C00243', 'N'), ('C00244', 'N'), ('C00245', 'N'), ('C00246', 'N'), ('C00247', 'N'), ('C00248', 'N'), ('C00249', 'O'), ('C00250', 'N'), ('C00251', 'O'), ('C00252', 'N'), ('C00253', 'N'), ('C00254', 'N'), ('C00255', 'N'), ('C00256', 'N'), ('C00257', 'N'), ('C00258', 'N'), ('C00259', 'N'), ('C00260', 'N'), ('C00261', 'N'), ('C00262', 'N'), ('C00263', 'N'), ('C00264', 'N'), ('C00265', 'O'), ('C00266', 'N'), ('C00267', 'N'), ('C00268', 'N'), ('C00269', 'N'), ('C00270', 'O'), ('C00271', 'N'), ('C00272', 'N'), ('C00273', 'N'), ('C00274', 'N'), ('C00275', 'N'), ('C00276', 'N'), ('C00277', 'N'), ('C00278', 'N'), ('C00279', 'N'), ('C00280', 'N'), ('C00281', 'N'), ('C00282', 'N'), ('C00283', 'N'), ('C00284', 'N'), ('C00285', 'O'), ('C00286', 'A'), ('C00287', 'N'), ('C00288', 'N'), ('C00289', 'N'), ('C00290', 'N'), ('C00291', 'N'), ('C00292', 'N'), ('C00293', 'N'), ('C00294', 'O'), ('C00295', 'N'), ('C00296', 'N'), ('C00297', 'O'), ('C00298', 'N'), ('C00299', 'N'), ('C00300', 'N'), ('C00301', 'O'), ('C00302', 'N'), ('C00303', 'O'), ('C00304', 'N'), ('C00305', 'N'), ('C00306', 'O'), ('C00307', 'N'), ('C00308', 'N'), ('C00309', 'N'), ('C00310', 'O'), ('C00311', 'N'), ('C00312', 'N'), ('C00313', 'O'), ('C00314', 'N'), ('C00315', 'N'), ('C00316', 'N'), ('C00317', 'N'), ('C00318', 'N'), ('C00319', 'N'), ('C00320', 'N'), ('C00321', 'O'), ('C00322', 'N'), ('C00323', 'N'), ('C00324', 'O'), ('C00325', 'N'), ('C00326', 'O'), ('C00327', 'N'), ('C00328', 'N'), ('C00329', 'N'), ('C00330', 'N'), ('C00331', 'N'), ('C00332', 'N'), ('C00333', 'N'), ('C00334', 'N'), ('C00335', 'N'), ('C00336', 'N'), ('C00337', 'N'), ('C00338', 'N'), ('C00339', 'N'), ('C00340', 'N'), ('C00341', 'N'), ('C00342', 'O'), ('C00343', 'O'), ('C00344', 'O'), ('C00345', 'N'), ('C00346', 'O'), ('C00347', 'N'), ('C00348', 'O'), ('C00349', 'N'), ('C00350', 'N'), ('C00351', 'N'), ('C00352', 'N'), ('C00353', 'N'), ('C00354', 'N'), ('C00355', 'N'), ('C00356', 'N'), ('C00357', 'O'), ('C00358', 'O'), ('C00359', 'O'), ('C00360', 'N'), ('C00361', 'O'), ('C00362', 'O'), ('C00363', 'N'), ('C00364', 'O'), ('C00365', 'N'), ('C00366', 'N'), ('C00367', 'N'), ('C00368', 'N'), ('C00369', 'N'), ('C00370', 'O'), ('C00371', 'N'), ('C00372', 'N'), ('C00373', 'N'), ('C00374', 'N'), ('C00375', 'N'), ('C00376', 'N'), ('C00377', 'N'), ('C00378', 'N'), ('C00379', 'N'), ('C00380', 'N'), ('C00381', 'N'), ('C00382', 'N'), ('C00383', 'N'), ('C00384', 'N'), ('C00385', 'N'), ('C00386', 'N'), ('C00387', 'N'), ('C00388', 'N'), ('C00389', 'N'), ('C00390', 'N'), ('C00391', 'N'), ('C00392', 'N'), ('C00393', 'N'), ('C00394', 'N'), ('C00395', 'N'), ('C00396', 'O'), ('C00397', 'N'), ('C00398', 'O'), ('C00399', 'O'), ('C00400', 'N'), ('C00401', 'N'), ('C00402', 'N'), ('C00403', 'O'), ('C00404', 'N'), ('C00405', 'O'), ('C00406', 'N'), ('C00407', 'O'), ('C00408', 'O'), ('C00409', 'N'), ('C00410', 'N'), ('C00411', 'N'), ('C00412', 'O'), ('C00413', 'N'), ('C00414', 'N'), ('C00415', 'N'), ('C00416', 'N'), ('C00417', 'N'), ('C00418', 'N'), ('C00419', 'O'), ('C00420', 'O'), ('C00421', 'N'), ('C00422', 'N'), ('C00423', 'N'), ('C00424', 'N'), ('C00425', 'N'), ('C00426', 'N'), ('C00427', 'N'), ('C00428', 'N'), ('C00429', 'N'), ('C00430', 'N'), ('C00431', 'N'), ('C00432', 'N'), ('C00433', 'N'), ('C00434', 'N'), ('C00435', 'N'), ('C00436', 'N'), ('C00437', 'N'), ('C00438', 'N'), ('C00439', '~'), ('C00440', 'N'), ('C00441', 'O'), ('C00442', 'N'), ('C00443', 'N'), ('C00444', 'O'), ('C00445', 'O'), ('C00446', 'N'), ('C00447', 'N'), ('C00448', 'N'), ('C00449', 'N'), ('C00450', 'O'), ('C00451', 'O'), ('C00452', 'O'), ('C00453', 'N'), ('C00454', 'N'), ('C00455', 'N'), ('C00456', 'N'), ('C00457', 'N'), ('C00458', 'O'), ('C00459', 'N'), ('C00460', 'O'), ('C00461', 'O'), ('C00462', 'N'), ('C00463', 'O'), ('C00464', 'N'), ('C00465', 'N'), ('C00466', 'N'), ('C00467', 'O'), ('C00468', 'N'), ('C00469', 'N'), ('C00470', 'N'), ('C00471', 'N'), ('C00472', 'N'), ('C00473', 'O'), ('C00474', 'N'), ('C00475', 'N'), ('C00476', 'N'), ('C00477', 'N'), ('C00478', 'N'), ('C00479', 'N'), ('C00480', 'N'), ('C00481', 'N'), ('C00482', 'N'), ('C00483', 'O'), ('C00484', 'N'), ('C00485', 'N'), ('C00486', 'A'), ('C00487', 'N'), ('C00488', 'N'), ('C00489', 'O'), ('C00490', 'O'), ('C00491', 'O'), ('C00492', 'N'), ('C00493', 'N'), ('C00494', 'N'), ('C00495', 'N'), ('C00496', 'N'), ('C00497', 'N'), ('C00498', 'N'), ('C00499', 'N'), ('C00500', 'N'), ('C00501', 'N'), ('C00502', 'N'), ('C00503', 'N'), ('C00504', 'N'), ('C00505', 'N'), ('C00506', 'N'), ('C00507', 'N'), ('C00508', 'O'), ('C00509', 'O'), ('C00510', 'O'), ('C00511', 'N'), ('C00512', 'A'), ('C00513', '~'), ('C00514', 'N'), ('C00515', 'N'), ('C00516', 'N'), ('C00517', 'O'), ('C00518', 'O'), ('C00519', 'N'), ('C00520', 'N'), ('C00521', 'N'), ('C00522', 'N'), ('C00523', 'N'), ('C00524', 'N'), ('C00525', 'N'), ('C00526', 'N'), ('C00527', 'O'), ('C00528', 'O'), ('C00529', 'N'), ('C00530', 'N'), ('C00531', 'N'), ('C00532', 'N'), ('C00533', 'N'), ('C00534', 'N'), ('C00535', 'N'), ('C00536', 'O'), ('C00537', 'N'), ('C00538', 'N'), ('C00539', 'N'), ('C00540', 'N'), ('C00541', 'N'), ('C00542', 'O'), ('C00543', 'N'), ('C00544', 'N'), ('C00545', 'N'), ('C00546', 'N'), ('C00547', 'N'), ('C00548', 'O'), ('C00549', 'N'), ('C00550', 'N'), ('C00551', 'N'), ('C00552', 'N'), ('C00553', 'O'), ('C00554', 'O'), ('C00555', 'O'), ('C00556', 'N'), ('C00557', 'N'), ('C00558', 'N'), ('C00559', 'O'), ('C00560', 'N'), ('C00561', 'N'), ('C00562', 'N'), ('C00563', 'O'), ('C00564', 'N'), ('C00565', 'N'), ('C00566', 'N'), ('C00567', 'N'), ('C00568', 'N'), ('C00569', 'N'), ('C00570', 'N'), ('C00571', 'N'), ('C00572', 'N'), ('C00573', 'N'), ('C00574', 'N'), ('C00575', 'N'), ('C00576', 'N'), ('C00577', 'N'), ('C00578', 'O'), ('C00579', 'N'), ('C00580', 'N'), ('C00581', 'N'), ('C00582', 'N'), ('C00583', 'N'), ('C00584', 'O'), ('C00585', 'N'), ('C00586', 'N'), ('C00587', 'N'), ('C00588', 'N'), ('C00589', 'O'), ('C00590', 'N'), ('C00591', 'N'), ('C00592', 'N'), ('C00593', 'O'), ('C00594', 'N'), ('C00595', 'N'), ('C00596', 'N'), ('C00597', 'N'), ('C00598', 'N'), ('C00599', 'N'), ('C00600', 'N'), ('C00601', 'N'), ('C00602', 'N'), ('C00603', 'N'), ('C00604', 'N'), ('C00605', 'O'), ('C00606', 'O'), ('C00607', 'O'), ('C00608', 'N'), ('C00609', 'N'), ('C00610', 'N'), ('C00611', 'N'), ('C00612', 'N'), ('C00613', 'O'), ('C00614', 'N'), ('C00615', 'N'), ('C00616', 'N'), ('C00617', 'N'), ('C00618', 'N'), ('C00619', 'O'), ('C00620', 'O'), ('C00621', 'O'), ('C00622', 'N'), ('C00623', 'N'), ('C00624', 'N'), ('C00625', 'N'), ('C00626', 'N'), ('C00627', 'N'), ('C00628', 'O'), ('C00629', 'O'), ('C00630', 'A'), ('C00631', 'N'), ('C00632', 'N'), ('C00633', 'O'), ('C00634', 'O'), ('C00635', 'N'), ('C00636', 'N'), ('C00637', 'N'), ('C00638', 'N'), ('C00639', 'N'), ('C00640', 'N'), ('C00641', 'N'), ('C00642', 'N'), ('C00643', 'N'), ('C00644', 'N'), ('C00645', 'N'), ('C00646', 'O'), ('C00647', 'O'), ('C00648', 'N'), ('C00649', 'N'), ('C00650', 'N'), ('C00651', 'N'), ('C00652', 'N'), ('C00653', 'N'), ('C00654', 'O'), ('C00655', 'O'), ('C00656', 'O'), ('C00657', 'N'), ('C00658', 'N'), ('C00659', 'N'), ('C00660', 'O'), ('C00661', 'N'), ('C00662', 'N'), ('C00663', 'N'), ('C00664', 'N'), ('C00665', 'O'), ('C00666', 'O'), ('C00667', 'N'), ('C00668', 'O'), ('C00669', 'A'), ('C00670', 'O'), ('C00671', 'N'), ('C00672', 'N'), ('C00673', 'O'), ('C00674', 'N'), ('C00675', 'N'), ('C00676', 'N'), ('C00677', 'N'), ('C00678', 'N'), ('C00679', 'N'), ('C00680', 'O'), ('C00681', 'N'), ('C00682', 'N'), ('C00683', 'N'), ('C00684', 'N'), ('C00685', 'N'), ('C00686', 'N'), ('C00687', 'N'), ('C00688', 'O'), ('C00689', 'O'), ('C00690', 'N'), ('C00691', 'O'), ('C00692', 'N'), ('C00693', 'O'), ('C00694', 'O'), ('C00695', 'O'), ('C00696', 'O'), ('C00697', 'N'), ('C00698', 'O'), ('C00699', 'N'), ('C00700', 'N'), ('C00701', 'N'), ('C00702', 'N'), ('C00703', 'O'), ('C00704', 'O'), ('C00705', 'N'), ('C00706', 'N'), ('C00707', 'O'), ('C00708', 'N'), ('C00709', 'N'), ('C00710', 'N'), ('C00711', 'N'), ('C00712', 'N'), ('C00713', 'N'), ('C00714', 'N'), ('C00715', 'O'), ('C00716', 'O'), ('C00717', 'O'), ('C00718', 'O'), ('C00719', 'N'), ('C00720', 'N'), ('C00721', 'N'), ('C00722', 'N'), ('C00723', 'N'), ('C00724', 'N'), ('C00725', 'N'), ('C00726', 'O'), ('C00727', 'N'), ('C00728', 'N'), ('C00729', 'N'), ('C00730', 'N'), ('C00731', 'N'), ('C00732', 'N'), ('C00733', 'N'), ('C00734', 'N'), ('C00735', 'N'), ('C00736', 'N'), ('C00737', 'O'), ('C00738', 'O'), ('C00739', 'N'), ('C00740', 'O'), ('C00741', 'N'), ('C00742', 'N'), ('C00743', 'N'), ('C00744', 'N'), ('C00745', 'O'), ('C00746', 'O'), ('C00747', 'O'), ('C00748', 'N'), ('C00749', 'O'), ('C00750', 'O'), ('C00751', 'N'), ('C00752', 'N'), ('C00753', 'N'), ('C00754', 'N'), ('C00755', 'N'), ('C00756', 'N'), ('C00757', 'N'), ('C00758', 'N'), ('C00759', 'N'), ('C00760', 'N'), ('C00761', 'N'), ('C00762', 'N'), ('C00763', 'N'), ('C00764', 'N'), ('C00765', 'N'), ('C00766', 'N'), ('C00767', 'N'), ('C00768', 'N'), ('C00769', 'N'), ('C00770', 'N'), ('C00771', 'O'), ('C00772', 'O'), ('C00773', 'N'), ('C00774', 'N'), ('C00775', 'N'), ('C00776', 'N'), ('C00777', 'O'), ('C00778', 'O'), ('C00779', 'N'), ('C00780', 'N'), ('C00781', 'O'), ('C00782', 'N'), ('C00783', 'N'), ('C00784', 'N'), ('C00785', 'N'), ('C00786', 'N'), ('C00787', 'N'), ('C00788', 'N'), ('C00789', 'N'), ('C00790', 'N'), ('C00791', 'N'), ('C00792', 'N'), ('C00793', 'O'), ('C00794', 'N'), ('C00795', 'N'), ('C00796', 'O'), ('C00797', 'N'), ('C00798', 'N'), ('C00799', 'N'), ('C00800', 'N'), ('C00801', 'N'), ('C00802', 'O'), ('C00803', 'N'), ('C00804', 'N'), ('C00805', 'N'), ('C00806', 'O'), ('C00807', 'O'), ('C00808', 'O'), ('C00809', 'N'), ('C00810', 'N'), ('C00811', 'N'), ('C00812', 'N'), ('C00813', 'N'), ('C00814', 'N'), ('C00815', 'N'), ('C00816', 'O'), ('C00817', 'O'), ('C00818', 'N'), ('C00819', 'O'), ('C00820', 'N'), ('C00821', 'O'), ('C00822', 'N'), ('C00823', 'N'), ('C00824', 'N'), ('C00825', 'O'), ('C00826', 'N'), ('C00827', 'N'), ('C00828', 'N'), ('C00829', 'N'), ('C00830', 'O'), ('C00831', 'N'), ('C00832', 'N'), ('C00833', 'O'), ('C00834', 'N'), ('C00835', 'N'), ('C00836', 'N'), ('C00837', '~'), ('C00838', 'N'), ('C00839', 'N'), ('C00840', 'N'), ('C00841', 'N'), ('C00842', 'N'), ('C00843', 'N'), ('C00844', 'N'), ('C00845', 'N'), ('C00846', 'N'), ('C00847', 'N'), ('C00848', 'N'), ('C00849', 'N'), ('C00850', 'N'), ('C00851', 'N'), ('C00852', 'N'), ('C00853', 'N'), ('C00854', 'N'), ('C00855', 'N'), ('C00856', 'N'), ('C00857', 'N'), ('C00858', 'O'), ('C00859', 'N'), ('C00860', 'N'), ('C00861', 'N'), ('C00862', 'O'), ('C00863', 'N'), ('C00864', 'O'), ('C00865', 'O'), ('C00866', 'N'), ('C00867', 'N'), ('C00868', 'N'), ('C00869', 'N'), ('C00870', 'N'), ('C00871', 'N'), ('C00872', 'N'), ('C00873', 'N'), ('C00874', 'O'), ('C00875', 'N'), ('C00876', 'N'), ('C00877', 'N'), ('C00878', 'N'), ('C00879', 'N'), ('C00880', 'N'), ('C00881', 'N'), ('C00882', 'N'), ('C00883', 'N'), ('C00884', 'N'), ('C00885', 'N'), ('C00886', 'N'), ('C00887', 'N'), ('C00888', 'O'), ('C00889', 'N'), ('C00890', 'N'), ('C00891', 'N'), ('C00892', 'O'), ('C00893', 'N'), ('C00894', 'N'), ('C00895', 'N'), ('C00896', 'O'), ('C00897', 'N'), ('C00898', 'N'), ('C00899', 'N'), ('C00900', 'N'), ('C00901', 'N'), ('C00902', 'N'), ('C00903', 'N'), ('C00904', 'N'), ('C00905', 'N'), ('C00906', 'N'), ('C00907', 'O'), ('C00908', 'N'), ('C00909', 'O'), ('C00910', 'N'), ('C00911', 'N'), ('C00912', 'N'), ('C00913', 'N'), ('C00914', 'N'), ('C00915', 'N'), ('C00916', 'O'), ('C00917', 'N'), ('C00918', 'N'), ('C00919', 'N'), ('C00920', 'N'), ('C00921', 'N'), ('C00922', 'O'), ('C00923', 'O'), ('C00924', 'O'), ('C00925', 'N'), ('C00926', 'N'), ('C00927', 'N'), ('C00928', 'N'), ('C00929', 'N'), ('C00930', 'O'), ('C00931', 'O'), ('C00932', 'N'), ('C00933', 'N'), ('C00934', 'N'), ('C00935', 'N'), ('C00936', 'N'), ('C00937', 'N'), ('C00938', 'N'), ('C00939', 'O'), ('C00940', 'N'), ('C00941', 'N'), ('C00942', 'N'), ('C00943', 'N'), ('C00944', 'N'), ('C00945', 'N'), ('C00946', 'N'), ('C00947', 'O'), ('C00948', 'O'), ('C00949', 'O'), ('C00950', 'N'), ('C00951', 'O'), ('C00952', 'N'), ('C00953', 'N'), ('C00954', 'N'), ('C00955', 'O'), ('C00956', 'N'), ('C00957', 'N'), ('C00958', 'N'), ('C00959', 'N'), ('C00960', 'O'), ('C00961', 'N'), ('C00962', 'N'), ('C00963', 'N'), ('C00964', 'N'), ('C00965', 'N'), ('C00966', 'O'), ('C00967', 'N'), ('C00968', 'O'), ('C00969', 'O'), ('C00970', 'N'), ('C00971', 'N'), ('C00972', 'O'), ('C00973', 'N'), ('C00974', 'N'), ('C00975', 'N'), ('C00976', 'N'), ('C00977', 'N'), ('C00978', 'N'), ('C00979', 'N'), ('C00980', 'O'), ('C00981', 'O'), ('C00982', 'N'), ('C00983', 'O'), ('C00984', 'N'), ('C00985', 'N'), ('C00986', 'N'), ('C00987', 'N'), ('C00988', 'N'), ('C00989', 'N'), ('C00990', 'N'), ('C00991', 'O'), ('C00992', 'O'), ('C00993', 'O'), ('C00994', 'N'), ('C00995', 'O'), ('C00996', 'N'), ('C00997', 'O'), ('C00998', 'N'), ('C00999', 'N'), ('C01000', 'N'), ('C01001', 'O'), ('C01002', 'O'), ('C01003', 'N'), ('C01004', 'N'), ('C01005', 'N'), ('C01006', 'N'), ('C01007', 'O'), ('C01008', 'N'), ('C01009', 'N'), ('C01010', 'N'), ('C01011', 'O'), ('C01012', 'N'), ('C01013', 'N'), ('C01014', 'N'), ('C01015', 'N'), ('C01016', 'N'), ('C01017', 'N'), ('C01018', 'N'), ('C01019', 'N'), ('C01020', 'N'), ('C01021', 'O'), ('C01022', 'O'), ('C01023', 'N'), ('C01024', 'N'), ('C01025', 'N'), ('C01026', 'N'), ('C01027', 'N'), ('C01028', 'O'), ('C01029', 'N'), ('C01030', 'N'), ('C01031', 'N'), ('C01032', 'N'), ('C01033', 'N'), ('C01034', 'N'), ('C01035', 'N'), ('C01036', 'O'), ('C01037', 'O'), ('C01038', 'O'), ('C01039', 'O'), ('C01040', 'O'), ('C01041', 'O'), ('C01042', 'N'), ('C01043', 'N'), ('C01044', 'N'), ('C01045', 'O'), ('C01046', 'N'), ('C01047', 'N'), ('C01048', 'N'), ('C01049', 'N'), ('C01050', 'O'), ('C01051', 'O'), ('C01052', 'O'), ('C01053', 'N'), ('C01054', 'N'), ('C01055', 'N'), ('C01056', 'N'), ('C01057', 'N'), ('C01058', 'N'), ('C01059', 'N'), ('C01060', 'O'), ('C01061', 'O'), ('C01062', 'N'), ('C01063', 'O'), ('C01064', 'O'), ('C01065', 'O'), ('C01066', 'N'), ('C01067', 'N'), ('C01068', 'O'), ('C01069', 'N'), ('C01070', 'N'), ('C01071', 'N'), ('C01072', 'N'), ('C01073', 'N'), ('C01074', 'N'), ('C01075', 'N'), ('C01076', 'O'), ('C01077', 'N'), ('C01078', 'N'), ('C01079', 'N'), ('C01080', 'N'), ('C01081', 'N'), ('C01082', 'O'), ('C01083', 'O'), ('C01084', 'N'), ('C01085', 'N'), ('C01086', 'N'), ('C01087', 'O'), ('C01088', 'O'), ('C01089', 'O'), ('C01090', 'N'), ('C01091', 'N'), ('C01092', 'N'), ('C01093', 'N'), ('C01094', 'O'), ('C01095', 'N'), ('C01096', 'N'), ('C01097', 'N'), ('C01098', 'O'), ('C01099', 'N'), ('C01100', 'N'), ('C01101', 'N'), ('C01102', 'O'), ('C01103', 'O'), ('C01104', 'O'), ('C01105', 'N'), ('C01106', 'N'), ('C01107', 'O'), ('C01108', 'N'), ('C01109', 'N'), ('C01110', 'O'), ('C01111', 'N'), ('C01112', 'N'), ('C01113', 'N'), ('C01114', 'O'), ('C01115', 'N'), ('C01116', 'N'), ('C01117', 'N'), ('C01118', 'N'), ('C01119', 'N'), ('C01120', 'N'), ('C01121', '~'), ('C01122', 'N'), ('C01123', 'N'), ('C01124', 'N'), ('C01125', 'N'), ('C01126', 'N'), ('C01127', 'N'), ('C01128', 'N'), ('C01129', 'O'), ('C01130', 'N'), ('C01131', 'O'), ('C01132', 'N'), ('C01133', 'N'), ('C01134', 'N'), ('C01135', 'N'), ('C01136', 'N'), ('C01137', 'N'), ('C01138', 'N'), ('C01139', 'N'), ('C01140', 'N'), ('C01141', 'N'), ('C01142', 'N'), ('C01143', 'N'), ('C01144', 'N'), ('C01145', 'O'), ('C01146', 'O'), ('C01147', 'N'), ('C01148', 'N'), ('C01149', 'N'), ('C01150', 'N'), ('C01151', 'N'), ('C01152', 'N'), ('C01153', 'O'), ('C01154', 'N'), ('C01155', 'N'), ('C01156', 'N'), ('C01157', 'O'), ('C01158', 'O'), ('C01159', 'O'), ('C01160', 'N'), ('C01161', 'N'), ('C01162', 'N'), ('C01163', 'N'), ('C01164', 'N'), ('C01165', 'N'), ('C01166', 'N'), ('C01167', 'N'), ('C01168', 'N'), ('C01169', 'N'), ('C01170', 'N'), ('C01171', 'N'), ('C01172', 'N'), ('C01173', 'O'), ('C01174', 'O'), ('C01175', 'O'), ('C01176', 'O'), ('C01177', 'N'), ('C01178', 'N'), ('C01179', 'O'), ('C01180', 'N'), ('C01181', 'N'), ('C01182', 'N'), ('C01183', 'N'), ('C01184', 'O'), ('C01185', 'O'), ('C01186', 'N'), ('C01187', 'N'), ('C01188', 'N'), ('C01189', 'O'), ('C01190', 'N'), ('C01191', 'N'), ('C01192', 'N'), ('C01193', 'O'), ('C01194', 'O'), ('C01195', 'N'), ('C01196', 'N'), ('C01197', 'O'), ('C01198', 'N'), ('C01199', 'N'), ('C01200', 'N'), ('C01201', 'N'), ('C01202', 'N'), ('C01203', 'O'), ('C01204', 'N'), ('C01205', 'N'), ('C01206', 'O'), ('C01207', 'N'), ('C01208', 'N'), ('C01209', 'N'), ('C01210', 'N'), ('C01211', 'N'), ('C01212', 'N'), ('C01213', 'O'), ('C01214', 'N'), ('C01215', 'O'), ('C01216', 'O'), ('C01217', 'O'), ('C01218', 'O'), ('C01219', 'O'), ('C01220', 'N'), ('C01221', 'N'), ('C01222', 'N'), ('C01223', 'O'), ('C01224', 'N'), ('C01225', 'N'), ('C01226', 'N'), ('C01227', 'N'), ('C01228', 'N'), ('C01229', 'O'), ('C01230', 'O'), ('C01231', 'N'), ('C01232', 'N'), ('C01233', 'N'), ('C01234', 'N'), ('C01235', 'N'), ('C01236', 'N'), ('C01237', 'N'), ('C01238', 'N'), ('C01239', 'N'), ('C01240', 'N'), ('C01241', 'N'), ('C01242', 'N'), ('C01243', 'N'), ('C01244', 'O'), ('C01245', 'N'), ('C01246', 'N'), ('C01247', 'N'), ('C01248', 'O'), ('C01249', 'N'), ('C01250', 'N'), ('C01251', 'N'), ('C01252', 'O'), ('C01253', 'N'), ('C01254', 'N'), ('C01255', 'N'), ('C01256', 'O'), ('C01257', 'N'), ('C01258', 'N'), ('C01259', 'O'), ('C01260', 'N'), ('C01261', 'O'), ('C01262', 'N'), ('C01263', 'O'), ('C01264', 'N'), ('C01265', 'N'), ('C01266', 'N'), ('C01267', 'N'), ('C01268', 'N'), ('C01269', 'N'), ('C01270', 'N'), ('C01271', 'O'), ('C01272', 'O'), ('C01273', 'O'), ('C01274', 'N'), ('C01275', 'N'), ('C01276', 'N'), ('C01277', 'O'), ('C01278', 'N'), ('C01279', 'O'), ('C01280', 'N'), ('C01281', 'N'), ('C01282', 'N'), ('C01283', 'N'), ('C01284', 'N'), ('C01285', 'N'), ('C01286', 'N'), ('C01287', 'N'), ('C01288', 'N'), ('C01289', 'O'), ('C01290', 'N'), ('C01291', 'N'), ('C01292', 'N'), ('C01293', 'N'), ('C01294', 'O'), ('C01295', 'O'), ('C01296', 'N'), ('C01297', 'N'), ('C01298', 'N'), ('C01299', 'N'), ('C01300', 'N'), ('C01301', 'N'), ('C01302', 'N'), ('C01303', 'N'), ('C01304', 'N'), ('C01305', 'N'), ('C01306', 'N'), ('C01307', 'N'), ('C01308', 'N'), ('C01309', 'O'), ('C01310', 'N'), ('C01311', 'N'), ('C01312', 'N'), ('C01313', 'N'), ('C01314', 'N'), ('C01315', 'O'), ('C01316', 'O'), ('C01317', 'N'), ('C01318', 'N'), ('C01319', 'N'), ('C01320', 'N'), ('C01321', 'N'), ('C01322', 'N'), ('C01323', 'N'), ('C01324', 'N'), ('C01325', 'N'), ('C01326', 'N'), ('C01327', 'N'), ('C01328', 'N'), ('C01329', 'N'), ('C01330', 'N'), ('C01331', 'N'), ('C01332', 'O'), ('C01333', 'N'), ('C01334', 'O'), ('C01335', 'N'), ('C01336', 'O'), ('C01337', 'N'), ('C01338', 'N'), ('C01339', 'N'), ('C01340', 'N'), ('C01341', 'N'), ('C01342', 'N'), ('C01343', 'N'), ('C01344', 'N'), ('C01345', 'N'), ('C01346', 'N'), ('C01347', 'N'), ('C01348', 'N'), ('C01349', 'O'), ('C01350', 'N'), ('C01351', 'N'), ('C01352', 'O'), ('C01353', 'N'), ('C01354', 'N'), ('C01355', 'N'), ('C01356', 'N'), ('C01357', 'O'), ('C01358', 'N'), ('C01359', 'N'), ('C01360', 'N'), ('C01361', 'N'), ('C01362', 'N'), ('C01363', 'N'), ('C01364', 'O'), ('C01365', 'N'), ('C01366', 'N'), ('C01367', 'N'), ('C01368', 'N'), ('C01369', 'N'), ('C01370', 'N'), ('C01371', 'O'), ('C01372', 'N'), ('C01373', 'N'), ('C01374', 'O'), ('C01375', 'N'), ('C01376', 'N'), ('C01377', 'N'), ('C01378', 'N'), ('C01379', 'N'), ('C01380', 'N'), ('C01381', 'N'), ('C01382', 'N'), ('C01383', 'N'), ('C01384', 'N'), ('C01385', 'N'), ('C01386', 'N'), ('C01387', 'N'), ('C01388', 'N'), ('C01389', 'N'), ('C01390', 'N'), ('C01391', 'N'), ('C01392', 'N'), ('C01393', 'O'), ('C01394', 'O'), ('C01395', 'N'), ('C01396', 'N'), ('C01397', 'O'), ('C01398', 'N'), ('C01399', 'A'), ('C01400', 'N'), ('C01401', 'N'), ('C01402', 'N'), ('C01403', 'N'), ('C01404', 'O'), ('C01405', 'N'), ('C01406', 'N'), ('C01407', 'N'), ('C01408', 'N'), ('C01409', 'N'), ('C01410', 'N'), ('C01411', 'N'), ('C01412', 'O'), ('C01413', 'N'), ('C01414', 'N'), ('C01415', 'N'), ('C01416', 'N'), ('C01417', 'N'), ('C01418', 'O'), ('C01419', 'O'), ('C01420', 'N'), ('C01421', 'O'), ('C01422', 'N'), ('C01423', 'O'), ('C01424', 'N'), ('C01425', 'N'), ('C01426', 'N'), ('C01427', 'O'), ('C01428', 'N'), ('C01429', 'N'), ('C01430', 'N'), ('C01431', 'N'), ('C01432', 'N'), ('C01433', 'N'), ('C01434', 'O'), ('C01435', 'O'), ('C01436', 'O'), ('C01437', 'N'), ('C01438', 'N'), ('C01439', 'N'), ('C01440', 'N'), ('C01441', 'N'), ('C01442', 'N'), ('C01443', 'N'), ('C01444', 'N'), ('C01445', 'N'), ('C01446', 'N'), ('C01447', 'N'), ('C01448', 'O'), ('C01449', 'N'), ('C01450', 'N'), ('C01451', 'O'), ('C01452', 'N'), ('C01453', 'N'), ('C01454', 'N'), ('C01455', 'N'), ('C01456', 'N'), ('C01457', 'N'), ('C01458', 'N'), ('C01459', 'O'), ('C01460', 'N'), ('C01461', 'N'), ('C01462', 'O'), ('C01463', 'N'), ('C01464', 'O'), ('C01465', 'O'), ('C01466', 'N'), ('C01467', 'N'), ('C01468', 'N'), ('C01469', 'N'), ('C01470', 'O'), ('C01471', 'N'), ('C01472', 'N'), ('C01473', 'N'), ('C01474', 'N'), ('C01475', 'N'), ('C01476', 'N'), ('C01477', 'A'), ('C01478', 'N'), ('C01479', 'N'), ('C01480', 'N'), ('C01481', 'N'), ('C01482', 'N'), ('C01483', 'O'), ('C01484', 'N'), ('C01485', 'N'), ('C01486', 'O'), ('C01487', 'N'), ('C01488', 'N'), ('C01489', 'N'), ('C01490', 'N'), ('C01491', 'N'), ('C01492', 'N'), ('C01493', 'N'), ('C01494', 'N'), ('C01495', 'N'), ('C01496', 'N'), ('C01497', 'N'), ('C01498', 'O'), ('C01499', 'N'), ('C01500', 'N'), ('C01501', 'N'), ('C01502', 'N'), ('C01503', 'N'), ('C01504', 'N'), ('C01505', 'N'), ('C01506', 'N'), ('C01507', 'N'), ('C01508', 'O'), ('C01509', 'N'), ('C01510', 'N'), ('C01511', 'N'), ('C01512', 'N'), ('C01513', 'N'), ('C01514', 'N'), ('C01515', 'N'), ('C01516', 'N'), ('C01517', 'N'), ('C01518', 'O'), ('C01519', 'N'), ('C01520', 'O'), ('C01521', 'N'), ('C01522', 'N'), ('C01523', 'N'), ('C01524', 'N'), ('C01525', 'N'), ('C01526', 'N'), ('C01527', 'N'), ('C01528', 'N'), ('C01529', 'N'), ('C01530', 'O'), ('C01531', 'N'), ('C01532', 'N'), ('C01533', 'N'), ('C01534', 'N'), ('C01535', 'N'), ('C01536', 'O'), ('C01537', 'O'), ('C01538', 'N'), ('C01539', 'O'), ('C01540', 'N'), ('C01541', 'N'), ('C01542', 'N'), ('C01543', 'N'), ('C01544', 'N'), ('C01545', 'N'), ('C01546', 'N'), ('C01547', 'N'), ('C01548', 'N'), ('C01549', 'N'), ('C01550', 'N'), ('C01551', 'N'), ('C01552', 'N'), ('C01553', 'N'), ('C01554', 'N'), ('C01555', 'O'), ('C01556', 'N'), ('C01557', 'N'), ('C01558', 'O'), ('C01559', 'N'), ('C01560', 'N'), ('C01561', 'N'), ('C01562', 'N'), ('C01563', 'O'), ('C01564', 'N'), ('C01565', 'N'), ('C01566', 'N'), ('C01567', 'N'), ('C01568', 'N'), ('C01569', 'N'), ('C01570', 'N'), ('C01571', 'N'), ('C01572', 'N'), ('C01573', 'O'), ('C01574', 'O'), ('C01575', 'N'), ('C01576', 'N'), ('C01577', 'N'), ('C01578', 'N'), ('C01579', 'N'), ('C01580', 'N'), ('C01581', 'N'), ('C01582', '~'), ('C01583', 'N'), ('C01584', 'N'), ('C01585', 'N'), ('C01586', 'N'), ('C01587', 'O'), ('C01588', 'O'), ('C01589', 'N'), ('C01590', 'N'), ('C01591', 'N'), ('C01592', 'N'), ('C01593', 'N'), ('C01594', 'N'), ('C01595', 'N'), ('C01596', 'N'), ('C01597', 'N'), ('C01598', 'N'), ('C01599', 'N'), ('C01600', 'N'), ('C01601', 'O'), ('C01602', 'N'), ('C01603', 'O'), ('C01604', 'N'), ('C01605', 'N'), ('C01606', 'N'), ('C01607', 'N'), ('C01608', 'N'), ('C01609', 'N'), ('C01610', 'N'), ('C01611', 'O'), ('C01612', 'N'), ('C01613', 'N'), ('C01614', 'O'), ('C01615', 'O'), ('C01616', 'N'), ('C01617', 'N'), ('C01618', 'N'), ('C01619', 'N'), ('C01620', 'O'), ('C01621', 'N'), ('C01622', 'N'), ('C01623', 'O'), ('C01624', 'N'), ('C01625', 'N'), ('C01626', 'N'), ('C01627', 'N'), ('C01628', 'O'), ('C01629', 'N'), ('C01630', 'N'), ('C01631', 'N'), ('C01632', 'N'), ('C01633', 'O'), ('C01634', 'N'), ('C01635', 'N'), ('C01636', 'N'), ('C01637', 'O'), ('C01638', 'O'), ('C01639', 'O'), ('C01640', 'O'), ('C01641', 'N'), ('C01642', 'O'), ('C01643', 'O'), ('C01644', 'O'), ('C01645', 'N'), ('C01646', 'O'), ('C01647', 'N'), ('C01648', 'N'), ('C01649', 'N'), ('C01650', 'N'), ('C01651', 'N'), ('C01652', 'N'), ('C01653', 'O'), ('C01654', 'O'), ('C01655', 'N'), ('C01656', 'N'), ('C01657', 'N'), ('C01658', 'O'), ('C01659', 'O'), ('C01660', 'N'), ('C01661', 'N'), ('C01662', 'N'), ('C01663', 'O'), ('C01664', 'N'), ('C01665', 'N'), ('C01666', 'O'), ('C01667', 'N'), ('C01668', 'N'), ('C01669', 'N'), ('C01670', 'N'), ('C01671', 'N'), ('C01672', 'N'), ('C01673', 'N'), ('C01674', 'N'), ('C01675', 'N'), ('C01676', 'O'), ('C01677', 'N'), ('C01678', 'N'), ('C01679', 'N'), ('C01680', 'N'), ('C01681', 'O'), ('C01682', 'N'), ('C01683', 'N'), ('C01684', 'N'), ('C01685', 'O'), ('C01686', 'N'), ('C01687', 'O'), ('C01688', 'O'), ('C01689', 'N'), ('C01690', 'N'), ('C01691', 'N'), ('C01692', 'O'), ('C01693', 'O'), ('C01694', 'N'), ('C01695', 'N'), ('C01696', 'N'), ('C01697', 'N'), ('C01698', 'N'), ('C01699', 'N'), ('C01700', 'N'), ('C01701', 'O'), ('C01702', 'N'), ('C01703', 'N'), ('C01704', 'N'), ('C01705', 'N'), ('C01706', 'N'), ('C01707', 'O'), ('C01708', 'N'), ('C01709', 'O'), ('C01710', '~'), ('C01711', 'O'), ('C01712', 'N'), ('C01713', 'O'), ('C01714', 'N'), ('C01715', 'N'), ('C01716', 'N'), ('C01717', 'N'), ('C01718', 'N'), ('C01719', 'O'), ('C01720', 'N'), ('C01721', 'N'), ('C01722', 'N'), ('C01723', 'N'), ('C01724', 'O'), ('C01725', 'N'), ('C01726', 'N'), ('C01727', 'N'), ('C01728', 'N'), ('C01729', 'N'), ('C01730', 'N'), ('C01731', 'N'), ('C01732', 'N'), ('C01733', 'N'), ('C01734', 'N'), ('C01735', 'N'), ('C01736', 'N'), ('C01737', 'N'), ('C01738', 'O'), ('C01739', 'O'), ('C01740', 'O'), ('C01741', 'N'), ('C01742', 'O'), ('C01743', 'N'), ('C01744', 'N'), ('C01745', 'O'), ('C01746', 'N'), ('C01747', 'N'), ('C01748', 'O'), ('C01749', 'O'), ('C01750', 'N'), ('C01751', 'N'), ('C01752', 'O'), ('C01753', 'O'), ('C01754', 'N'), ('C01755', 'N'), ('C01756', 'N'), ('C01757', 'N'), ('C01758', 'N'), ('C01759', 'N'), ('C01760', 'O'), ('C01761', 'O'), ('C01762', 'N'), ('C01763', 'N'), ('C01764', 'N'), ('C01765', 'N'), ('C01766', 'N'), ('C01767', 'N'), ('C01768', 'N'), ('C01769', 'N'), ('C01770', 'N'), ('C01771', 'O'), ('C01772', 'N'), ('C01773', 'N'), ('C01774', 'N'), ('C01775', 'N'), ('C01776', 'N'), ('C01777', 'N'), ('C01778', 'O'), ('C01779', 'O'), ('C01780', 'N'), ('C01781', 'N'), ('C01782', 'N'), ('C01783', 'O'), ('C01784', 'O'), ('C01785', 'N'), ('C01786', '~'), ('C01787', 'N'), ('C01788', 'N'), ('C01789', 'O'), ('C01790', 'O'), ('C01791', 'N'), ('C01792', 'N'), ('C01793', 'N'), ('C01794', 'N'), ('C01795', 'N'), ('C01796', 'O'), ('C01797', 'O'), ('C01798', 'N'), ('C01799', 'O'), ('C01800', 'N'), ('C01801', 'N'), ('C01802', 'N'), ('C01803', 'N'), ('C01804', 'N'), ('C01805', 'N'), ('C01806', 'O'), ('C01807', 'O'), ('C01808', 'O'), ('C01809', 'O'), ('C01810', 'O'), ('C01811', 'N'), ('C01812', 'N'), ('C01813', 'N'), ('C01814', 'N'), ('C01815', 'N'), ('C01816', 'O'), ('C01817', 'N'), ('C01818', 'O'), ('C01819', 'N'), ('C01820', 'N'), ('C01821', 'N'), ('C01822', 'N'), ('C01823', 'N'), ('C01824', 'N'), ('C01825', 'N'), ('C01826', 'N'), ('C01827', 'N'), ('C01828', 'N'), ('C01829', 'N'), ('C01830', 'O'), ('C01831', 'N'), ('C01832', 'O'), ('C01833', 'N'), ('C01834', 'N'), ('C01835', 'N'), ('C01836', 'N'), ('C01837', 'N'), ('C01838', 'N'), ('C01839', 'N'), ('C01840', 'N'), ('C01841', 'N'), ('C01842', 'N'), ('C01843', 'N'), ('C01844', 'O'), ('C01845', 'N'), ('C01846', 'O'), ('C01847', 'N'), ('C01848', 'N'), ('C01849', 'N'), ('C01850', 'N'), ('C01851', 'N'), ('C01852', 'N'), ('C01853', 'O'), ('C01854', 'N'), ('C01855', 'N'), ('C01856', 'O'), ('C01857', 'O'), ('C01858', 'O'), ('C01859', 'N'), ('C01860', 'N'), ('C01861', 'N'), ('C01862', 'N'), ('C01863', 'N'), ('C01864', 'O'), ('C01865', 'O'), ('C01866', 'N'), ('C01867', 'N'), ('C01868', 'N'), ('C01869', 'N'), ('C01870', 'O'), ('C01871', 'O'), ('C01872', 'N'), ('C01873', 'O'), ('C01874', 'N'), ('C01875', 'N'), ('C01876', 'N'), ('C01877', 'N'), ('C01878', 'N'), ('C01879', 'O'), ('C01880', 'O'), ('C01881', 'O'), ('C01882', 'N'), ('C01883', 'N'), ('C01884', 'O'), ('C01885', 'N'), ('C01886', 'N'), ('C01887', 'O'), ('C01888', 'N'), ('C01889', 'N'), ('C01890', 'N'), ('C01891', 'N'), ('C01892', 'N'), ('C01893', 'N'), ('C01894', 'N'), ('C01895', 'N'), ('C01896', 'N'), ('C01897', 'O'), ('C01898', 'O'), ('C01899', 'N'), ('C01900', 'N'), ('C01901', 'N'), ('C01902', 'O'), ('C01903', 'N'), ('C01904', 'N'), ('C01905', 'N'), ('C01906', 'O'), ('C01907', 'N'), ('C01908', 'O'), ('C01909', 'N'), ('C01910', 'N'), ('C01911', 'N'), ('C01912', 'N'), ('C01913', 'N'), ('C01914', 'O'), ('C01915', 'O'), ('C01916', 'N'), ('C01917', 'N'), ('C01918', 'N'), ('C01919', 'N'), ('C01920', 'N'), ('C01921', 'N'), ('C01922', 'O'), ('C01923', 'O'), ('C01924', 'O'), ('C01925', 'O'), ('C01926', 'N'), ('C01927', 'N'), ('C01928', 'N'), ('C01929', 'N'), ('C01930', 'N'), ('C01931', 'N'), ('C01932', 'O'), ('C01933', 'N'), ('C01934', 'O'), ('C01935', 'N'), ('C01936', 'N'), ('C01937', 'N'), ('C01938', 'O'), ('C01939', 'O'), ('C01940', 'O'), ('C01941', 'N'), ('C01942', 'N'), ('C01943', 'N'), ('C01944', 'N'), ('C01945', 'N'), ('C01946', 'N'), ('C01947', 'N'), ('C01948', 'N'), ('C01949', 'N'), ('C01950', 'N'), ('C01951', 'N'), ('C01952', 'O'), ('C01953', 'N'), ('C01954', 'N'), ('C01955', 'O'), ('C01956', 'O'), ('C01957', 'N'), ('C01958', 'N'), ('C01959', 'O'), ('C01960', 'N'), ('C01961', 'N'), ('C01962', 'O'), ('C01963', 'N'), ('C01964', 'O'), ('C01965', 'O'), ('C01966', 'N'), ('C01967', 'N'), ('C01968', 'O'), ('C01969', 'N'), ('C01970', 'N'), ('C01971', 'N'), ('C01972', 'O'), ('C01973', 'N'), ('C01974', 'N'), ('C01975', 'N'), ('C01976', 'N'), ('C01977', 'O'), ('C01978', 'O'), ('C01979', 'N'), ('C01980', 'N'), ('C01981', 'N'), ('C01982', 'N'), ('C01983', 'N'), ('C01984', 'N'), ('C01985', 'O'), ('C01986', 'N'), ('C01987', 'N'), ('C01988', 'O'), ('C01989', 'O'), ('C01990', 'O'), ('C01991', 'N'), ('C01992', 'O'), ('C01993', 'O'), ('C01994', 'N'), ('C01995', 'N'), ('C01996', 'O'), ('C01997', 'N'), ('C01998', 'N'), ('C01999', 'N'), ('C02000', 'N'), ('C02001', 'N'), ('C02002', 'O'), ('C02003', 'O'), ('C02004', 'N'), ('C02005', 'N'), ('C02006', 'N'), ('C02007', 'N'), ('C02008', 'O'), ('C02009', 'N'), ('C02010', 'O'), ('C02011', 'N'), ('C02012', 'N'), ('C02013', 'N'), ('C02014', 'N'), ('C02015', 'N'), ('C02016', 'N'), ('C02017', 'N'), ('C02018', 'N'), ('C02019', 'N'), ('C02020', 'N'), ('C02021', 'O'), ('C02022', 'O'), ('C02023', 'N'), ('C02024', 'O'), ('C02025', 'N'), ('C02026', 'N'), ('C02027', 'N'), ('C02028', 'O'), ('C02029', 'N'), ('C02030', 'N'), ('C02031', 'N'), ('C02032', 'N'), ('C02033', 'N'), ('C02034', 'N'), ('C02035', 'N'), ('C02036', 'N'), ('C02037', 'O'), ('C02038', 'N'), ('C02039', 'N'), ('C02040', 'N'), ('C02041', 'O'), ('C02042', 'N'), ('C02043', 'O'), ('C02044', 'O'), ('C02045', 'N'), ('C02046', 'N'), ('C02047', 'O'), ('C02048', 'N'), ('C02049', 'N'), ('C02050', 'N'), ('C02051', 'O'), ('C02052', 'N'), ('C02053', 'O'), ('C02054', 'N'), ('C02055', 'N'), ('C02056', 'O'), ('C02057', 'O'), ('C02058', 'N'), ('C02059', 'N'), ('C02060', 'N'), ('C02061', 'N'), ('C02062', 'N'), ('C02063', 'N'), ('C02064', 'N'), ('C02065', 'N'), ('C02066', 'N'), ('C02067', 'N'), ('C02068', 'N'), ('C02069', 'N'), ('C02070', 'N'), ('C02071', 'N'), ('C02072', 'N'), ('C02073', 'N'), ('C02074', 'N'), ('C02075', 'N'), ('C02076', 'N'), ('C02077', 'N'), ('C02078', 'O'), ('C02079', 'N'), ('C02080', 'O'), ('C02081', 'N'), ('C02082', 'N'), ('C02083', 'O'), ('C02084', 'N'), ('C02085', 'N'), ('C02086', 'N'), ('C02087', 'O'), ('C02088', 'O'), ('C02089', 'N'), ('C02090', 'N'), ('C02091', 'N'), ('C02092', 'O'), ('C02093', 'O'), ('C02094', 'N'), ('C02095', 'N'), ('C02096', 'N'), ('C02097', 'N'), ('C02098', 'O'), ('C02099', 'N'), ('C02100', 'O'), ('C02101', 'N'), ('C02102', 'N'), ('C02103', 'O'), ('C02104', 'N'), ('C02105', 'O'), ('C02106', 'O'), ('C02107', 'N'), ('C02108', 'N'), ('C02109', 'N'), ('C02110', 'O'), ('C02111', 'N'), ('C02112', 'N'), ('C02113', 'N'), ('C02114', 'O'), ('C02115', 'O'), ('C02116', 'N'), ('C02117', 'N'), ('C02118', 'N'), ('C02119', 'O'), ('C02120', 'N'), ('C02121', 'O'), ('C02122', 'O'), ('C02123', 'O'), ('C02124', 'N'), ('C02125', 'O'), ('C02126', 'N'), ('C02127', 'N'), ('C02128', 'N'), ('C02129', 'N'), ('C02130', 'N'), ('C02131', 'O'), ('C02132', 'N'), ('C02133', 'N'), ('C02134', 'N'), ('C02135', 'N'), ('C02136', 'O'), ('C02137', 'O'), ('C02138', 'N'), ('C02139', 'N'), ('C02140', 'N'), ('C02141', 'N'), ('C02142', 'N'), ('C02143', 'O'), ('C02144', 'N'), ('C02145', 'N'), ('C02146', 'N'), ('C02147', 'O'), ('C02148', 'N'), ('C02149', 'O'), ('C02150', 'O'), ('C02151', 'N'), ('C02152', 'N'), ('C02153', 'N'), ('C02154', 'N'), ('C02155', 'N'), ('C02156', 'N'), ('C02157', 'O'), ('C02158', 'N'), ('C02159', 'N'), ('C02160', 'O'), ('C02161', 'N'), ('C02162', 'N'), ('C02163', 'N'), ('C02164', 'N'), ('C02165', 'N'), ('C02166', 'N'), ('C02167', 'O'), ('C02168', 'N'), ('C02169', 'N'), ('C02170', 'N'), ('C02171', 'O'), ('C02172', 'N'), ('C02173', 'N'), ('C02174', 'N'), ('C02175', 'N'), ('C02176', 'N'), ('C02177', 'N'), ('C02178', 'O'), ('C02179', 'N'), ('C02180', 'N'), ('C02181', 'N'), ('C02182', 'N'), ('C02183', 'N'), ('C02184', 'N'), ('C02185', 'N'), ('C02186', 'N'), ('C02187', 'N'), ('C02188', 'N'), ('C02189', 'N'), ('C02190', 'O'), ('C02191', 'O'), ('C02192', 'N'), ('C02193', 'N'), ('C02194', 'N'), ('C02195', 'N'), ('C02196', 'O'), ('C02197', 'N'), ('C02198', 'N'), ('C02199', 'N'), ('C02200', 'N'), ('C02201', 'N'), ('C02202', '~'), ('C02203', 'N'), ('C02204', 'O'), ('C02205', 'N'), ('C02206', 'N'), ('C02207', 'N'), ('C02208', 'N'), ('C02209', 'O'), ('C02210', 'N'), ('C02211', 'N'), ('C02212', 'N'), ('C02213', 'N'), ('C02214', 'N'), ('C02215', 'N'), ('C02216', 'O'), ('C02217', 'N'), ('C02218', 'N'), ('C02219', 'O'), ('C02220', 'N'), ('C02221', 'N'), ('C02222', 'O'), ('C02223', 'N'), ('C02224', 'N'), ('C02225', 'O'), ('C02226', 'O'), ('C02227', 'N'), ('C02228', 'N'), ('C02229', 'N'), ('C02230', 'N'), ('C02231', 'N'), ('C02232', 'O'), ('C02233', 'N'), ('C02234', 'N'), ('C02235', 'O'), ('C02236', 'N'), ('C02237', 'N'), ('C02238', 'N'), ('C02239', 'N'), ('C02240', 'N'), ('C02241', 'N'), ('C02242', 'N'), ('C02243', 'N'), ('C02244', 'O'), ('C02245', 'N'), ('C02246', 'O'), ('C02247', 'N'), ('C02248', 'N'), ('C02249', 'N'), ('C02250', 'O'), ('C02251', 'O'), ('C02252', 'N'), ('C02253', 'O'), ('C02254', 'O'), ('C02255', 'N'), ('C02256', 'N'), ('C02257', 'N'), ('C02258', 'N'), ('C02259', 'N'), ('C02260', 'N'), ('C02261', 'N'), ('C02262', 'N'), ('C02263', 'O'), ('C02264', 'N'), ('C02265', 'O'), ('C02266', 'N'), ('C02267', 'O'), ('C02268', 'O'), ('C02269', 'O'), ('C02270', 'O'), ('C02271', 'N'), ('C02272', 'N'), ('C02273', 'N'), ('C02274', 'N'), ('C02275', 'N'), ('C02276', 'N'), ('C02277', 'N'), ('C02278', 'N'), ('C02279', 'N'), ('C02280', 'N'), ('C02281', 'N'), ('C02282', 'N'), ('C02283', 'N'), ('C02284', 'N'), ('C02285', 'N'), ('C02286', 'O'), ('C02287', 'O'), ('C02288', 'N'), ('C02289', 'N'), ('C02290', 'N'), ('C02291', 'N'), ('C02292', 'N'), ('C02293', 'N'), ('C02294', 'N'), ('C02295', 'N'), ('C02296', 'N'), ('C02297', 'N'), ('C02298', 'N'), ('C02299', 'N'), ('C02300', 'O'), ('C02301', 'N'), ('C02302', 'N'), ('C02303', 'N'), ('C02304', 'N'), ('C02305', 'N'), ('C02306', 'N'), ('C02307', 'N'), ('C02308', 'N'), ('C02309', 'O'), ('C02310', 'N'), ('C02311', 'N'), ('C02312', 'N'), ('C02313', 'N'), ('C02314', 'N'), ('C02315', 'O'), ('C02316', 'N'), ('C02317', 'N'), ('C02318', 'N'), ('C02319', 'O'), ('C02320', 'O'), ('C02321', 'N'), ('C02322', 'O'), ('C02323', 'O'), ('C02324', 'O'), ('C02325', 'N'), ('C02326', 'N'), ('C02327', 'O'), ('C02328', 'O'), ('C02329', 'N'), ('C02330', 'N'), ('C02331', 'N'), ('C02332', 'O'), ('C02333', 'N'), ('C02334', 'N'), ('C02335', 'N'), ('C02336', 'N'), ('C02337', 'N'), ('C02338', 'N'), ('C02339', 'O'), ('C02340', 'N'), ('C02341', 'N'), ('C02342', 'N'), ('C02343', 'O'), ('C02344', 'N'), ('C02345', 'N'), ('C02346', 'O'), ('C02347', 'N'), ('C02348', 'N'), ('C02349', 'N'), ('C02350', 'N'), ('C02351', 'N'), ('C02352', 'N'), ('C02353', 'O'), ('C02354', 'N'), ('C02355', 'N'), ('C02356', 'N'), ('C02357', 'N'), ('C02358', 'N'), ('C02359', 'N'), ('C02360', 'N'), ('C02361', 'O'), ('C02362', 'N'), ('C02363', 'N'), ('C02364', 'O'), ('C02365', 'N'), ('C02366', 'N'), ('C02367', 'N'), ('C02368', 'N'), ('C02369', 'N'), ('C02370', 'N'), ('C02371', 'O'), ('C02372', 'O'), ('C02373', 'N'), ('C02374', 'O'), ('C02375', 'O'), ('C02376', 'O'), ('C02377', 'O'), ('C02378', 'N'), ('C02379', 'N'), ('C02380', 'N'), ('C02381', 'N'), ('C02382', 'N'), ('C02383', 'N'), ('C02384', 'N'), ('C02385', 'N'), ('C02386', 'O'), ('C02387', 'N'), ('C02388', 'O'), ('C02389', 'N'), ('C02390', 'N'), ('C02391', 'N'), ('C02392', 'N'), ('C02393', 'O'), ('C02394', 'O'), ('C02395', 'O'), ('C02396', 'N'), ('C02397', 'O'), ('C02398', 'O'), ('C02399', 'N'), ('C02400', 'N'), ('C02401', 'O'), ('C02402', 'N'), ('C02403', 'N'), ('C02404', 'N'), ('C02405', 'N'), ('C02406', 'O'), ('C02407', 'N'), ('C02408', 'N'), ('C02409', 'N'), ('C02410', 'N'), ('C02411', 'N'), ('C02412', 'N'), ('C02413', 'N'), ('C02414', 'N'), ('C02415', 'O'), ('C02416', 'N'), ('C02417', 'N'), ('C02418', 'N'), ('C02419', 'O'), ('C02420', 'O'), ('C02421', 'N'), ('C02422', 'N'), ('C02423', 'N'), ('C02424', 'N'), ('C02425', 'N'), ('C02426', 'O'), ('C02427', 'O'), ('C02428', 'N'), ('C02429', 'N'), ('C02430', 'N'), ('C02431', 'N'), ('C02432', 'N'), ('C02433', 'N'), ('C02434', 'N'), ('C02435', 'O'), ('C02436', 'N'), ('C02437', 'N'), ('C02438', 'N'), ('C02439', 'N'), ('C02440', 'N'), ('C02441', 'N'), ('C02442', 'N'), ('C02443', 'N'), ('C02444', 'N'), ('C02445', 'N'), ('C02446', 'O'), ('C02447', 'O'), ('C02448', 'O'), ('C02449', 'N'), ('C02450', 'N'), ('C02451', 'N'), ('C02452', 'N'), ('C02453', 'N'), ('C02454', 'O'), ('C02455', 'N'), ('C02456', 'N'), ('C02457', 'N'), ('C02458', 'N'), ('C02459', 'N'), ('C02460', 'O'), ('C02461', 'O'), ('C02462', 'N'), ('C02463', 'N'), ('C02464', 'N'), ('C02465', 'O'), ('C02466', 'N'), ('C02467', 'N'), ('C02468', 'N'), ('C02469', 'N'), ('C02470', 'N'), ('C02471', 'N'), ('C02472', 'N'), ('C02473', 'N'), ('C02474', 'N'), ('C02475', '~'), ('C02476', 'N'), ('C02477', 'N'), ('C02478', 'N'), ('C02479', 'N'), ('C02480', 'N'), ('C02481', 'N'), ('C02482', 'N'), ('C02483', 'N'), ('C02484', 'N'), ('C02485', 'N'), ('C02486', 'O'), ('C02487', 'N'), ('C02488', 'N'), ('C02489', 'O'), ('C02490', 'A'), ('C02491', '~'), ('C02492', 'N'), ('C02493', 'N'), ('C02494', 'N'), ('C02495', 'O'), ('C02496', 'N'), ('C02497', 'N'), ('C02498', 'O'), ('C02499', 'N'), ('C02500', 'O'), ('C02501', 'O'), ('C02502', 'N'), ('C02503', 'N'), ('C02504', 'N'), ('C02505', 'N'), ('C02506', 'N'), ('C02507', 'N'), ('C02508', 'N'), ('C02509', 'O'), ('C02510', 'N'), ('C02511', 'N'), ('C02512', 'N'), ('C02513', 'N'), ('C02514', 'N'), ('C02515', 'N'), ('C02516', 'O'), ('C02517', 'N'), ('C02518', 'O'), ('C02519', 'N'), ('C02520', 'O'), ('C02521', 'O'), ('C02522', 'O'), ('C02523', 'N'), ('C02524', 'O'), ('C02525', 'O'), ('C02526', 'O'), ('C02527', 'N'), ('C02528', 'N'), ('C02529', 'O'), ('C02530', 'N'), ('C02531', 'N'), ('C02532', 'N'), ('C02533', 'N'), ('C02534', 'N'), ('C02535', 'O'), ('C02536', 'N'), ('C02537', 'N'), ('C02538', 'N'), ('C02539', 'O'), ('C02540', 'O'), ('C02541', 'N'), ('C02542', 'O'), ('C02543', 'N'), ('C02544', 'N'), ('C02545', 'N'), ('C02546', 'N'), ('C02547', 'N'), ('C02548', 'N'), ('C02549', 'N'), ('C02550', 'N'), ('C02551', 'N'), ('C02552', 'N'), ('C02553', 'N'), ('C02554', 'O'), ('C02555', 'N'), ('C02556', 'N'), ('C02557', 'N'), ('C02558', 'O'), ('C02559', 'N'), ('C02560', 'O'), ('C02561', 'N'), ('C02562', 'N'), ('C02563', 'O'), ('C02564', 'O'), ('C02565', 'N'), ('C02566', 'N'), ('C02567', 'O'), ('C02568', 'N'), ('C02569', 'N'), ('C02570', 'N'), ('C02571', 'N'), ('C02572', 'O'), ('C02573', 'O'), ('C02574', 'O'), ('C02575', 'N'), ('C02576', 'O'), ('C02577', 'N'), ('C02578', 'O'), ('C02579', 'O'), ('C02580', 'O'), ('C02581', 'N'), ('C02582', 'O'), ('C02583', 'N'), ('C02584', 'N'), ('C02585', 'N'), ('C02586', 'N'), ('C02587', 'N'), ('C02588', 'N'), ('C02589', 'N'), ('C02590', 'N'), ('C02591', 'N'), ('C02592', 'O'), ('C02593', 'O'), ('C02594', 'N'), ('C02595', 'N'), ('C02596', 'N'), ('C02597', 'N'), ('C02598', 'O'), ('C02599', 'N'), ('C02600', 'O'), ('C02601', 'O'), ('C02602', 'N'), ('C02603', 'N'), ('C02604', 'N'), ('C02605', 'N'), ('C02606', 'N'), ('C02607', 'O'), ('C02608', 'N'), ('C02609', 'N'), ('C02610', 'N'), ('C02611', 'N'), ('C02612', 'N'), ('C02613', 'N'), ('C02614', 'N'), ('C02615', 'N'), ('C02616', 'N'), ('C02617', 'N'), ('C02618', 'N'), ('C02619', 'N'), ('C02620', 'O'), ('C02621', 'O'), ('C02622', 'N'), ('C02623', 'N'), ('C02624', 'N'), ('C02625', 'N'), ('C02626', 'N'), ('C02627', 'N'), ('C02628', 'O'), ('C02629', 'O'), ('C02630', 'N'), ('C02631', 'O'), ('C02632', 'N'), ('C02633', 'N'), ('C02634', 'N'), ('C02635', 'N'), ('C02636', 'N'), ('C02637', 'O'), ('C02638', 'O'), ('C02639', 'N'), ('C02640', 'N'), ('C02641', 'N'), ('C02642', 'N'), ('C02643', 'N'), ('C02644', 'O'), ('C02645', 'N'), ('C02646', 'N'), ('C02647', 'N'), ('C02648', 'N'), ('C02649', 'O'), ('C02650', 'O'), ('C02651', 'N'), ('C02652', 'N'), ('C02653', 'N'), ('C02654', 'N'), ('C02655', 'N'), ('C02656', 'O'), ('C02657', 'N'), ('C02658', 'N'), ('C02659', 'N'), ('C02660', 'N'), ('C02661', 'N'), ('C02662', 'N'), ('C02663', 'N'), ('C02664', 'O'), ('C02665', 'O'), ('C02666', 'N'), ('C02667', 'O'), ('C02668', 'N'), ('C02669', 'N'), ('C02670', 'N'), ('C02671', 'N'), ('C02672', 'N'), ('C02673', 'N'), ('C02674', 'N'), ('C02675', 'N'), ('C02676', 'N'), ('C02677', 'N'), ('C02678', 'O'), ('C02679', 'N'), ('C02680', 'N'), ('C02681', 'O'), ('C02682', 'N'), ('C02683', 'O'), ('C02684', 'N'), ('C02685', 'N'), ('C02686', 'O'), ('C02687', 'O'), ('C02688', 'N'), ('C02689', 'N'), ('C02690', 'N'), ('C02691', 'N'), ('C02692', 'N'), ('C02693', 'O'), ('C02694', 'N'), ('C02695', 'O'), ('C02696', 'N'), ('C02697', 'O'), ('C02698', 'O'), ('C02699', 'N'), ('C02700', 'N'), ('C02701', 'N'), ('C02702', 'N'), ('C02703', 'O'), ('C02704', 'N'), ('C02705', 'N'), ('C02706', 'N'), ('C02707', 'N'), ('C02708', 'N'), ('C02709', 'N'), ('C02710', 'N'), ('C02711', 'N'), ('C02712', 'N'), ('C02713', 'N'), ('C02714', 'N'), ('C02715', 'N'), ('C02716', 'O'), ('C02717', 'N'), ('C02718', 'O'), ('C02719', 'N'), ('C02720', 'N'), ('C02721', 'O'), ('C02722', 'N'), ('C02723', 'N'), ('C02724', 'N'), ('C02725', 'N'), ('C02726', 'N'), ('C02727', 'N'), ('C02728', '~'), ('C02729', 'N'), ('C02730', 'N'), ('C02731', 'O'), ('C02732', 'N'), ('C02733', 'N'), ('C02734', 'O'), ('C02735', 'N'), ('C02736', 'N'), ('C02737', 'N'), ('C02738', 'N'), ('C02739', 'N'), ('C02740', 'N'), ('C02741', 'N'), ('C02742', 'O'), ('C02743', 'O'), ('C02744', 'N'), ('C02745', 'N'), ('C02746', 'N'), ('C02747', 'N'), ('C02748', 'N'), ('C02749', 'N'), ('C02750', 'N'), ('C02751', 'O'), ('C02752', 'N'), ('C02753', 'N'), ('C02754', 'N'), ('C02755', 'N'), ('C02756', 'N'), ('C02757', 'N'), ('C02758', 'N'), ('C02759', 'O'), ('C02760', 'N'), ('C02761', 'O'), ('C02762', 'N'), ('C02763', 'N'), ('C02764', 'N'), ('C02765', 'N'), ('C02766', 'N'), ('C02767', 'O'), ('C02768', 'N'), ('C02769', 'N'), ('C02770', 'N'), ('C02771', 'N'), ('C02772', 'O'), ('C02773', 'N'), ('C02774', 'N'), ('C02775', 'N'), ('C02776', 'N'), ('C02777', 'N'), ('C02778', 'N'), ('C02779', 'N'), ('C02780', 'N'), ('C02781', 'N'), ('C02782', 'N'), ('C02783', 'N'), ('C02784', 'N'), ('C02785', 'N'), ('C02786', 'N'), ('C02787', 'O'), ('C02788', 'N'), ('C02789', 'O'), ('C02790', 'N'), ('C02791', 'N'), ('C02792', 'N'), ('C02793', 'N'), ('C02794', 'N'), ('C02795', 'N'), ('C02796', 'O'), ('C02797', 'N'), ('C02798', 'N'), ('C02799', 'N'), ('C02800', 'N'), ('C02801', 'N'), ('C02802', 'N'), ('C02803', 'N'), ('C02804', 'O'), ('C02805', 'N'), ('C02806', 'N'), ('C02807', 'N'), ('C02808', 'O'), ('C02809', 'O'), ('C02810', 'N'), ('C02811', 'N'), ('C02812', 'O'), ('C02813', 'N'), ('C02814', 'N'), ('C02815', 'N'), ('C02816', 'N'), ('C02817', 'O'), ('C02818', 'N'), ('C02819', 'N'), ('C02820', 'O'), ('C02821', 'O'), ('C02822', 'N'), ('C02823', 'N'), ('C02824', 'N'), ('C02825', 'N'), ('C02826', 'N'), ('C02827', 'N'), ('C02828', 'N'), ('C02829', 'N'), ('C02830', 'O'), ('C02831', 'O'), ('C02832', 'N'), ('C02833', 'N'), ('C02834', 'N'), ('C02835', 'N'), ('C02836', 'N'), ('C02837', 'O'), ('C02838', 'N'), ('C02839', 'N'), ('C02840', 'N'), ('C02841', 'N'), ('C02842', 'N'), ('C02843', 'N'), ('C02844', 'N'), ('C02845', 'O'), ('C02846', 'N'), ('C02847', 'O'), ('C02848', 'O'), ('C02849', 'N'), ('C02850', 'N'), ('C02851', 'O'), ('C02852', 'N'), ('C02853', 'N'), ('C02854', 'O'), ('C02855', 'N'), ('C02856', 'O'), ('C02857', 'N'), ('C02858', 'O'), ('C02859', 'N'), ('C02860', 'N'), ('C02861', 'N'), ('C02862', '~'), ('C02863', 'O'), ('C02864', 'N'), ('C02865', 'O'), ('C02866', 'N'), ('C02867', 'O'), ('C02868', 'N'), ('C02869', 'N'), ('C02870', 'N'), ('C02871', 'N'), ('C02872', 'N'), ('C02873', 'N'), ('C02874', 'N'), ('C02875', 'N'), ('C02876', 'N'), ('C02877', 'N'), ('C02878', 'N'), ('C02879', 'N'), ('C02880', 'N'), ('C02881', 'O'), ('C02882', 'O'), ('C02883', 'O'), ('C02884', 'N'), ('C02885', 'N'), ('C02886', 'A'), ('C02887', 'N'), ('C02888', 'O'), ('C02889', 'N'), ('C02890', 'N'), ('C02891', 'N'), ('C02892', 'O'), ('C02893', 'O'), ('C02894', 'N'), ('C02895', 'N'), ('C02896', 'N'), ('C02897', 'N'), ('C02898', 'N'), ('C02899', 'N'), ('C02900', 'O'), ('C02901', 'O'), ('C02902', 'O'), ('C02903', 'N'), ('C02904', 'N'), ('C02905', 'N'), ('C02906', 'N'), ('C02907', 'N'), ('C02908', 'N'), ('C02909', 'O'), ('C02910', '~'), ('C02911', 'O'), ('C02912', 'N'), ('C02913', 'N'), ('C02914', 'N'), ('C02915', 'N'), ('C02916', 'N'), ('C02917', 'N'), ('C02918', 'N'), ('C02919', 'N'), ('C02920', 'N'), ('C02921', 'O'), ('C02922', 'N'), ('C02923', 'N'), ('C02924', 'N'), ('C02925', 'O'), ('C02926', 'N'), ('C02927', 'N'), ('C02928', 'N'), ('C02929', 'O'), ('C02930', 'N'), ('C02931', 'N'), ('C02932', 'N'), ('C02933', 'N'), ('C02934', 'N'), ('C02935', 'N'), ('C02936', 'N'), ('C02937', 'N'), ('C02938', 'O'), ('C02939', 'N'), ('C02940', 'O'), ('C02941', 'O'), ('C02942', 'N'), ('C02943', 'N'), ('C02944', 'N'), ('C02945', 'A'), ('C02946', 'N'), ('C02947', 'N'), ('C02948', 'N'), ('C02949', 'N'), ('C02950', 'N'), ('C02951', 'N'), ('C02952', 'O'), ('C02953', 'N'), ('C02954', 'N'), ('C02955', 'N'), ('C02956', 'O'), ('C02957', 'N'), ('C02958', 'N'), ('C02959', 'N'), ('C02960', 'N'), ('C02961', 'N'), ('C02962', 'N'), ('C02963', 'N'), ('C02964', 'N'), ('C02965', 'N'), ('C02966', 'N'), ('C02967', 'N'), ('C02968', 'N'), ('C02969', 'N'), ('C02970', 'O'), ('C02971', 'N'), ('C02972', 'N'), ('C02973', 'O'), ('C02974', 'O'), ('C02975', 'N'), ('C02976', 'N'), ('C02977', 'N'), ('C02978', 'N'), ('C02979', 'N'), ('C02980', 'N'), ('C02981', 'N'), ('C02982', 'O'), ('C02983', 'O'), ('C02984', 'O'), ('C02985', 'O'), ('C02986', 'N'), ('C02987', 'N'), ('C02988', 'N'), ('C02989', 'O'), ('C02990', 'O'), ('C02991', 'O'), ('C02992', 'N'), ('C02993', 'N'), ('C02994', 'N'), ('C02995', 'N'), ('C02996', 'O'), ('C02997', 'N'), ('C02998', 'N'), ('C02999', 'O'), ('C03000', 'O'), ('C03001', 'N'), ('C03002', 'N'), ('C03003', 'N'), ('C03004', 'N'), ('C03005', 'N'), ('C03006', 'N'), ('C03007', 'N'), ('C03008', 'N'), ('C03009', 'N'), ('C03010', 'N'), ('C03011', 'N'), ('C03012', 'N'), ('C03013', 'N'), ('C03014', 'N'), ('C03015', 'O'), ('C03016', 'N'), ('C03017', 'N'), ('C03018', 'N'), ('C03019', 'N'), ('C03020', 'N'), ('C03021', 'N'), ('C03022', 'N'), ('C03023', 'N'), ('C03024', 'O'), ('C03025', 'O'), ('C03026', 'O'), ('C03027', 'O'), ('C03028', 'N'), ('C03029', 'N'), ('C03030', 'N'), ('C03031', 'N'), ('C03032', 'O'), ('C03033', 'N'), ('C03034', 'N'), ('C03035', 'O'), ('C03036', 'N'), ('C03037', 'O'), ('C03038', 'N'), ('C03039', 'N'), ('C03040', 'N'), ('C03041', 'N'), ('C03042', 'O'), ('C03043', 'N'), ('C03044', 'N'), ('C03045', 'N'), ('C03046', 'N'), ('C03047', 'N'), ('C03048', 'N'), ('C03049', 'N'), ('C03050', 'O'), ('C03051', 'N'), ('C03052', 'N'), ('C03053', 'O'), ('C03054', 'O'), ('C03055', 'N'), ('C03056', 'N'), ('C03057', 'O'), ('C03058', 'N'), ('C03059', 'O'), ('C03060', 'O'), ('C03061', 'N'), ('C03062', 'O'), ('C03063', 'N'), ('C03064', 'O'), ('C03065', 'N'), ('C03066', 'N'), ('C03067', 'O'), ('C03068', 'N'), ('C03069', 'N'), ('C03070', 'O'), ('C03071', 'O'), ('C03072', 'O'), ('C03073', 'N'), ('C03074', 'N'), ('C03075', 'N'), ('C03076', 'N'), ('C03077', 'N'), ('C03078', 'N'), ('C03079', 'O'), ('C03080', 'N'), ('C03081', 'O'), ('C03082', 'O'), ('C03083', 'N'), ('C03084', 'N'), ('C03085', 'O'), ('C03086', 'N'), ('C03087', 'N'), ('C03088', 'N'), ('C03089', 'N'), ('C03090', 'O'), ('C03091', 'O'), ('C03092', 'O'), ('C03093', 'N'), ('C03094', 'O'), ('C03095', 'N'), ('C03096', 'O'), ('C03097', 'O'), ('C03098', 'N'), ('C03099', 'N'), ('C03100', 'N'), ('C03101', 'O'), ('C03102', 'N'), ('C03103', 'O'), ('C03104', 'N'), ('C03105', 'N'), ('C03106', 'N'), ('C03107', 'N'), ('C03108', 'N'), ('C03109', 'O'), ('C03110', 'N'), ('C03111', 'N'), ('C03112', 'N'), ('C03113', 'N'), ('C03114', 'O'), ('C03115', 'O'), ('C03116', 'O'), ('C03117', 'O'), ('C03118', 'N'), ('C03119', 'O'), ('C03120', 'N'), ('C03121', 'N'), ('C03122', 'O'), ('C03123', 'N'), ('C03124', 'N'), ('C03125', 'N'), ('C03126', 'N'), ('C03127', 'O'), ('C03128', 'N'), ('C03129', 'N'), ('C03130', 'N'), ('C03131', 'N'), ('C03132', 'N'), ('C03133', 'O'), ('C03134', 'O'), ('C03135', 'O'), ('C03136', 'N'), ('C03137', 'N'), ('C03138', 'N'), ('C03139', 'N'), ('C03140', 'N'), ('C03141', 'O'), ('C03142', 'N'), ('C03143', 'O'), ('C03144', 'N'), ('C03145', 'N'), ('C03146', 'N'), ('C03147', '~'), ('C03148', 'O'), ('C03149', 'N'), ('C03150', 'N'), ('C03151', 'N'), ('C03152', '~'), ('C03153', 'N'), ('C03154', 'N'), ('C03155', 'N'), ('C03156', 'N'), ('C03157', 'N'), ('C03158', 'O'), ('C03159', 'N'), ('C03160', 'N'), ('C03161', 'O'), ('C03162', 'N'), ('C03163', 'O'), ('C03164', 'N'), ('C03165', 'N'), ('C03166', 'N'), ('C03167', 'N'), ('C03168', 'N'), ('C03169', 'N'), ('C03170', 'N'), ('C03171', 'N'), ('C03172', 'O'), ('C03173', 'N'), ('C03174', 'N'), ('C03175', 'N'), ('C03176', 'N'), ('C03177', 'N'), ('C03178', 'N'), ('C03179', 'N'), ('C03180', 'O'), ('C03181', 'N'), ('C03182', 'N'), ('C03183', 'N'), ('C03184', 'N'), ('C03185', 'O'), ('C03186', 'O'), ('C03187', 'N'), ('C03188', 'N'), ('C03189', 'N'), ('C03190', 'N'), ('C03191', 'N'), ('C03192', 'N'), ('C03193', 'N'), ('C03194', 'N'), ('C03195', 'N'), ('C03196', 'O'), ('C03197', 'O'), ('C03198', 'N'), ('C03199', 'O'), ('C03200', 'N'), ('C03201', 'O'), ('C03202', 'O'), ('C03203', 'N'), ('C03204', 'N'), ('C03205', 'N'), ('C03206', 'N'), ('C03207', 'N'), ('C03208', 'N'), ('C03209', 'N'), ('C03210', 'N'), ('C03211', 'N'), ('C03212', 'N'), ('C03213', 'N'), ('C03214', 'O'), ('C03215', 'N'), ('C03216', 'O'), ('C03217', 'N'), ('C03218', 'N'), ('C03219', 'N'), ('C03220', 'N'), ('C03221', 'O'), ('C03222', 'N'), ('C03223', 'N'), ('C03224', 'N'), ('C03225', 'N'), ('C03226', 'N'), ('C03227', 'N'), ('C03228', 'N'), ('C03229', 'O'), ('C03230', 'O'), ('C03231', 'N'), ('C03232', 'N'), ('C03233', 'N'), ('C03234', 'O'), ('C03235', 'N'), ('C03236', 'N'), ('C03237', 'N'), ('C03238', 'N'), ('C03239', 'O'), ('C03240', 'N'), ('C03241', 'N'), ('C03242', 'O'), ('C03243', 'N'), ('C03244', 'N'), ('C03245', 'N'), ('C03246', 'N'), ('C03247', 'N'), ('C03248', 'O'), ('C03249', 'O'), ('C03250', 'O'), ('C03251', 'O'), ('C03252', 'O'), ('C03253', 'O'), ('C03254', 'N'), ('C03255', 'N'), ('C03256', 'O'), ('C03257', 'O'), ('C03258', 'N'), ('C03259', 'O'), ('C03260', 'N'), ('C03261', 'N'), ('C03262', 'O'), ('C03263', 'O'), ('C03264', 'N'), ('C03265', 'N'), ('C03266', 'N'), ('C03267', 'N'), ('C03268', 'N'), ('C03269', 'N'), ('C03270', 'O'), ('C03271', 'N'), ('C03272', 'O'), ('C03273', 'N'), ('C03274', 'O'), ('C03275', 'N'), ('C03276', 'N'), ('C03277', 'N'), ('C03278', 'N'), ('C03279', 'N'), ('C03280', 'N'), ('C03281', 'O'), ('C03282', 'N'), ('C03283', 'N'), ('C03284', 'N'), ('C03285', 'N'), ('C03286', 'N'), ('C03287', 'N'), ('C03288', 'N'), ('C03289', 'O'), ('C03290', 'N'), ('C03291', 'O'), ('C03292', 'O'), ('C03293', 'O'), ('C03294', 'O'), ('C03295', 'N'), ('C03296', 'N'), ('C03297', 'N'), ('C03298', 'N'), ('C03299', 'N'), ('C03300', 'O'), ('C03301', 'N'), ('C03302', 'O'), ('C03303', 'N'), ('C03304', 'N'), ('C03305', 'O'), ('C03306', 'N'), ('C03307', 'N'), ('C03308', 'N'), ('C03309', 'N'), ('C03310', 'N'), ('C03311', 'N'), ('C03312', 'O'), ('C03313', 'N'), ('C03314', 'N'), ('C03315', 'N'), ('C03316', 'O'), ('C03317', 'N'), ('C03318', 'N'), ('C03319', 'N'), ('C03320', 'O'), ('C03321', 'N'), ('C03322', 'O'), ('C03323', 'O'), ('C03324', 'N'), ('C03325', 'N'), ('C03326', 'O'), ('C03327', 'N'), ('C03328', 'N'), ('C03329', 'N'), ('C03330', 'O'), ('C03331', 'N'), ('C03332', 'N'), ('C03333', 'O'), ('C03334', 'O'), ('C03335', 'O'), ('C03336', 'O'), ('C03337', 'N'), ('C03338', 'N'), ('C03339', 'N'), ('C03340', 'N'), ('C03341', 'N'), ('C03342', 'N'), ('C03343', 'N'), ('C03344', 'O'), ('C03345', 'N'), ('C03346', 'O'), ('C03347', 'N'), ('C03348', 'N'), ('C03349', 'N'), ('C03350', 'O'), ('C03351', 'N'), ('C03352', 'N'), ('C03353', 'N'), ('C03354', 'N'), ('C03355', 'N'), ('C03356', '~'), ('C03357', 'O'), ('C03358', 'O'), ('C03359', 'N'), ('C03360', 'N'), ('C03361', 'O'), ('C03362', 'O'), ('C03363', 'O'), ('C03364', 'O'), ('C03365', 'O'), ('C03366', 'N'), ('C03367', 'O'), ('C03368', 'N'), ('C03369', 'N'), ('C03370', 'N'), ('C03371', 'N'), ('C03372', 'N'), ('C03373', 'N'), ('C03374', 'N'), ('C03375', 'N'), ('C03376', 'O'), ('C03377', 'O'), ('C03378', 'N'), ('C03379', 'N'), ('C03380', 'N'), ('C03381', 'O'), ('C03382', 'O'), ('C03383', 'N'), ('C03384', 'N'), ('C03385', 'N'), ('C03386', 'N'), ('C03387', 'N'), ('C03388', 'N'), ('C03389', 'N'), ('C03390', 'N'), ('C03391', 'N'), ('C03392', 'O'), ('C03393', 'O'), ('C03394', 'O'), ('C03395', 'N'), ('C03396', 'N'), ('C03397', 'O'), ('C03398', 'N'), ('C03399', 'N'), ('C03400', 'N'), ('C03401', 'O'), ('C03402', 'N'), ('C03403', 'N'), ('C03404', 'N'), ('C03405', 'N'), ('C03406', 'N'), ('C03407', 'N'), ('C03408', 'N'), ('C03409', 'N'), ('C03410', 'N'), ('C03411', 'O'), ('C03412', 'N'), ('C03413', 'N'), ('C03414', 'N'), ('C03415', 'N'), ('C03416', 'N'), ('C03417', 'N'), ('C03418', 'N'), ('C03419', 'N'), ('C03420', 'O'), ('C03421', '~'), ('C03422', 'O'), ('C03423', 'N'), ('C03424', 'N'), ('C03425', 'N'), ('C03426', 'O'), ('C03427', 'N'), ('C03428', 'N'), ('C03429', 'N'), ('C03430', 'N'), ('C03431', 'N'), ('C03432', 'O'), ('C03433', 'N'), ('C03434', 'O'), ('C03435', 'O'), ('C03436', 'N'), ('C03437', 'N'), ('C03438', 'N'), ('C03439', 'N'), ('C03440', 'N'), ('C03441', 'O'), ('C03442', 'O'), ('C03443', 'N'), ('C03444', 'N'), ('C03445', 'N'), ('C03446', 'N'), ('C03447', 'N'), ('C03448', 'O'), ('C03449', 'O'), ('C03450', 'O'), ('C03451', 'N'), ('C03452', 'N'), ('C03453', 'N'), ('C03454', 'O'), ('C03455', 'O'), ('C03456', 'O'), ('C03457', 'O'), ('C03458', 'N'), ('C03459', 'N'), ('C03460', 'N'), ('C03461', 'N'), ('C03462', 'O'), ('C03463', 'N'), ('C03464', 'N'), ('C03465', 'N'), ('C03466', 'O'), ('C03467', 'N'), ('C03468', 'N'), ('C03469', 'N'), ('C03470', 'N'), ('C03471', 'N'), ('C03472', 'N'), ('C03473', 'N'), ('C03474', 'O'), ('C03475', 'N'), ('C03476', 'N'), ('C03477', 'N'), ('C03478', 'O'), ('C03479', 'O'), ('C03480', 'O'), ('C03481', 'N'), ('C03482', 'N'), ('C03483', 'N'), ('C03484', 'N'), ('C03485', 'N'), ('C03486', 'N'), ('C03487', 'N'), ('C03488', 'O'), ('C03489', 'N'), ('C03490', 'O'), ('C03491', 'N'), ('C03492', 'N'), ('C03493', 'O'), ('C03494', 'N'), ('C03495', 'N'), ('C03496', 'O'), ('C03497', 'N'), ('C03498', 'N'), ('C03499', 'N'), ('C03500', 'O'), ('C03501', 'N'), ('C03502', 'O'), ('C03503', 'N'), ('C03504', 'N'), ('C03505', 'N'), ('C03506', 'N'), ('C03507', 'N'), ('C03508', 'O'), ('C03509', 'N'), ('C03510', 'N'), ('C03511', 'N'), ('C03512', 'N'), ('C03513', 'N'), ('C03514', 'N'), ('C03515', 'O'), ('C03516', 'N'), ('C03517', 'N'), ('C03518', 'N'), ('C03519', 'N'), ('C03520', 'N'), ('C03521', 'O'), ('C03522', 'N'), ('C03523', 'N'), ('C03524', 'N'), ('C03525', 'N'), ('C03526', 'N'), ('C03527', 'N'), ('C03528', 'N'), ('C03529', 'N'), ('C03530', '~'), ('C03531', 'N'), ('C03532', 'O'), ('C03533', 'O'), ('C03534', 'N'), ('C03535', 'N'), ('C03536', 'N'), ('C03537', 'N'), ('C03538', 'N'), ('C03539', 'N'), ('C03540', 'O'), ('C03541', 'N'), ('C03542', 'N'), ('C03543', 'N'), ('C03544', 'O'), ('C03545', 'N'), ('C03546', 'O'), ('C03547', 'N'), ('C03548', 'O'), ('C03549', 'N'), ('C03550', 'O'), ('C03551', 'O'), ('C03552', 'O'), ('C03553', 'N'), ('C03554', 'O'), ('C03555', 'N'), ('C03556', 'N'), ('C03557', 'N'), ('C03558', 'O'), ('C03559', 'N'), ('C03560', 'N'), ('C03561', 'N'), ('C03562', 'N'), ('C03563', 'O'), ('C03564', 'N'), ('C03565', 'N'), ('C03566', 'O'), ('C03567', 'N'), ('C03568', 'N'), ('C03569', 'N'), ('C03570', 'N'), ('C03571', 'O'), ('C03572', 'O'), ('C03573', 'N'), ('C03574', 'N'), ('C03575', 'N'), ('C03576', 'N'), ('C03577', 'N'), ('C03578', 'O'), ('C03579', 'N'), ('C03580', 'N'), ('C03581', 'N'), ('C03582', 'N'), ('C03583', 'N'), ('C03584', 'N'), ('C03585', 'N'), ('C03586', 'O'), ('C03587', 'N'), ('C03588', 'N'), ('C03589', 'N'), ('C03590', 'N'), ('C03591', '~'), ('C03592', 'N'), ('C03593', 'N'), ('C03594', 'N'), ('C03595', 'N'), ('C03596', 'O'), ('C03597', 'N'), ('C03598', 'O'), ('C03599', 'N'), ('C03600', 'N'), ('C03601', 'O'), ('C03602', 'O'), ('C03603', 'N'), ('C03604', 'N'), ('C03605', 'N'), ('C03606', 'N'), ('C03607', 'N'), ('C03608', 'N'), ('C03609', 'N'), ('C03610', 'N'), ('C03611', 'N'), ('C03612', 'N'), ('C03613', 'N'), ('C03614', 'N'), ('C03615', 'N'), ('C03616', 'N'), ('C03617', 'N'), ('C03618', 'N'), ('C03619', 'N'), ('C03620', 'N'), ('C03621', 'N'), ('C03622', 'O'), ('C03623', 'N'), ('C03624', 'N'), ('C03625', 'N'), ('C03626', 'N'), ('C03627', 'N'), ('C03628', 'N'), ('C03629', 'O'), ('C03630', 'O'), ('C03631', 'O'), ('C03632', 'N'), ('C03633', 'N'), ('C03634', '~'), ('C03635', 'N'), ('C03636', 'N'), ('C03637', 'N'), ('C03638', 'N'), ('C03639', 'N'), ('C03640', 'N'), ('C03641', 'O'), ('C03642', 'N'), ('C03643', 'N'), ('C03644', 'O'), ('C03645', 'N'), ('C03646', 'O'), ('C03647', 'N'), ('C03648', 'O'), ('C03649', 'N'), ('C03650', 'N'), ('C03651', 'N'), ('C03652', 'N'), ('C03653', 'N'), ('C03654', 'O'), ('C03655', 'N'), ('C03656', 'O'), ('C03657', 'N'), ('C03658', 'N'), ('C03659', 'O'), ('C03660', 'N'), ('C03661', 'O'), ('C03662', 'O'), ('C03663', 'O'), ('C03664', 'O'), ('C03665', 'N'), ('C03666', 'N'), ('C03667', 'N'), ('C03668', 'N'), ('C03669', 'O'), ('C03670', 'N'), ('C03671', 'O'), ('C03672', 'O'), ('C03673', 'N'), ('C03674', 'N'), ('C03675', 'N'), ('C03676', 'O'), ('C03677', 'N'), ('C03678', 'N'), ('C03679', 'N'), ('C03680', 'O'), ('C03681', 'N'), ('C03682', 'N'), ('C03683', 'N'), ('C03684', 'N'), ('C03685', 'N'), ('C03686', 'N'), ('C03687', 'N'), ('C03688', 'N'), ('C03689', 'O'), ('C03690', 'N'), ('C03691', 'N'), ('C03692', 'O'), ('C03693', 'O'), ('C03694', 'N'), ('C03695', 'N'), ('C03696', 'N'), ('C03697', 'N'), ('C03698', 'O'), ('C03699', 'N'), ('C03700', 'N'), ('C03701', 'N'), ('C03702', 'N'), ('C03703', 'O'), ('C03704', 'N'), ('C03705', 'O'), ('C03706', 'N'), ('C03707', 'N'), ('C03708', 'O'), ('C03709', 'O'), ('C03710', 'N'), ('C03711', 'O'), ('C03712', 'N'), ('C03713', 'N'), ('C03714', 'N'), ('C03715', 'N'), ('C03716', 'N'), ('C03717', 'N'), ('C03718', 'O'), ('C03719', 'O'), ('C03720', 'O'), ('C03721', 'N'), ('C03722', 'N'), ('C03723', 'N'), ('C03724', 'N'), ('C03725', 'N'), ('C03726', 'N'), ('C03727', 'N'), ('C03728', 'N'), ('C03729', 'N'), ('C03730', 'N'), ('C03731', 'N'), ('C03732', 'N'), ('C03733', 'N'), ('C03734', 'N'), ('C03735', 'N'), ('C03736', 'N'), ('C03737', 'N'), ('C03738', 'N'), ('C03739', 'N'), ('C03740', 'N'), ('C03741', 'N'), ('C03742', 'N'), ('C03743', 'N'), ('C03744', 'N'), ('C03745', 'N'), ('C03746', 'N'), ('C03747', 'O'), ('C03748', 'N'), ('C03749', 'N'), ('C03750', 'N'), ('C03751', 'N'), ('C03752', 'O'), ('C03753', 'N'), ('C03754', 'N'), ('C03755', 'N'), ('C03756', 'N'), ('C03757', 'N'), ('C03758', 'N'), ('C03759', 'N'), ('C03760', '~'), ('C03761', 'N'), ('C03762', 'O'), ('C03763', 'N'), ('C03764', 'N'), ('C03765', 'N'), ('C03766', 'N'), ('C03767', 'O'), ('C03768', 'O'), ('C03769', 'O'), ('C03770', 'O'), ('C03771', 'N'), ('C03772', 'N'), ('C03773', 'O'), ('C03774', 'N'), ('C03775', 'N'), ('C03776', 'N'), ('C03777', 'N'), ('C03778', 'N'), ('C03779', 'N'), ('C03780', 'N'), ('C03781', 'N'), ('C03782', 'N'), ('C03783', 'N'), ('C03784', 'N'), ('C03785', 'N'), ('C03786', 'O'), ('C03787', 'N'), ('C03788', 'N'), ('C03789', 'N'), ('C03790', 'N'), ('C03791', 'N'), ('C03792', 'O'), ('C03793', 'N'), ('C03794', 'N'), ('C03795', 'N'), ('C03796', 'A'), ('C03797', 'N'), ('C03798', 'N'), ('C03799', 'N'), ('C03800', 'N'), ('C03801', 'N'), ('C03802', 'N'), ('C03803', 'N'), ('C03804', 'N'), ('C03805', 'N'), ('C03806', 'N'), ('C03807', 'N'), ('C03808', 'N'), ('C03809', 'N'), ('C03810', 'N'), ('C03811', 'N'), ('C03812', 'N'), ('C03813', 'N'), ('C03814', 'N'), ('C03815', 'N'), ('C03816', 'N'), ('C03817', 'N'), ('C03818', 'N'), ('C03819', 'N'), ('C03820', 'O'), ('C03821', 'N'), ('C03822', 'N'), ('C03823', 'O'), ('C03824', 'N'), ('C03825', 'N'), ('C03826', 'N'), ('C03827', 'O'), ('C03828', 'O'), ('C03829', 'N'), ('C03830', 'N'), ('C03831', 'N'), ('C03832', 'O'), ('C03833', 'O'), ('C03834', 'N'), ('C03835', 'O'), ('C03836', 'N'), ('C03837', 'N'), ('C03838', '~'), ('C03839', 'N'), ('C03840', 'N'), ('C03841', 'N'), ('C03842', 'N'), ('C03843', 'N'), ('C03844', 'N'), ('C03845', 'O'), ('C03846', 'N'), ('C03847', 'N'), ('C03848', 'N'), ('C03849', 'O'), ('C03850', 'O'), ('C03851', 'N'), ('C03852', 'N'), ('C03853', 'N'), ('C03854', 'N'), ('C03855', 'N'), ('C03856', 'O'), ('C03857', 'N'), ('C03858', 'N'), ('C03859', 'O'), ('C03860', 'N'), ('C03861', 'O'), ('C03862', 'N'), ('C03863', 'N'), ('C03864', 'O'), ('C03865', 'O'), ('C03866', 'N'), ('C03867', 'N'), ('C03868', 'N'), ('C03869', 'O'), ('C03870', 'O'), ('C03871', 'O'), ('C03872', 'O'), ('C03873', 'N'), ('C03874', 'O'), ('C03875', 'N'), ('C03876', 'N'), ('C03877', 'N'), ('C03878', 'O'), ('C03879', 'O'), ('C03880', 'N'), ('C03881', 'N'), ('C03882', 'N'), ('C03883', 'N'), ('C03884', 'N'), ('C03885', 'N'), ('C03886', 'N'), ('C03887', 'N'), ('C03888', 'N'), ('C03889', 'N'), ('C03890', 'O'), ('C03891', 'O'), ('C03892', 'N'), ('C03893', 'N'), ('C03894', 'N'), ('C03895', 'O'), ('C03896', 'N'), ('C03897', 'O'), ('C03898', 'O'), ('C03899', 'N'), ('C03900', 'N'), ('C03901', 'O'), ('C03902', 'O'), ('C03903', 'N'), ('C03904', 'N'), ('C03905', 'O'), ('C03906', 'N'), ('C03907', 'N'), ('C03908', 'N'), ('C03909', 'N'), ('C03910', 'N'), ('C03911', 'N'), ('C03912', 'N'), ('C03913', 'O'), ('C03914', 'O'), ('C03915', 'N'), ('C03916', 'N'), ('C03917', 'N'), ('C03918', 'N'), ('C03919', 'N'), ('C03920', 'N'), ('C03921', 'N'), ('C03922', 'N'), ('C03923', 'N'), ('C03924', 'O'), ('C03925', 'N'), ('C03926', 'N'), ('C03927', 'N'), ('C03928', 'N'), ('C03929', 'N'), ('C03930', 'N'), ('C03931', 'O'), ('C03932', 'N'), ('C03933', 'N'), ('C03934', 'N'), ('C03935', 'N'), ('C03936', 'N'), ('C03937', 'N'), ('C03938', 'N'), ('C03939', 'N'), ('C03940', 'N'), ('C03941', 'N'), ('C03942', 'N'), ('C03943', 'N'), ('C03944', 'N'), ('C03945', 'N'), ('C03946', 'N'), ('C03947', 'N'), ('C03948', 'N'), ('C03949', 'N'), ('C03950', 'N'), ('C03951', 'O'), ('C03952', 'N'), ('C03953', 'N'), ('C03954', 'N'), ('C03955', 'N'), ('C03956', 'N'), ('C03957', 'O'), ('C03958', 'N'), ('C03959', 'N'), ('C03960', 'N'), ('C03961', 'N'), ('C03962', 'N'), ('C03963', 'O'), ('C03964', 'O'), ('C03965', 'N'), ('C03966', 'N'), ('C03967', 'N'), ('C03968', 'N'), ('C03969', 'N'), ('C03970', 'N'), ('C03971', 'N'), ('C03972', 'N'), ('C03973', 'O'), ('C03974', 'O'), ('C03975', 'O'), ('C03976', 'N'), ('C03977', 'N'), ('C03978', 'O'), ('C03979', 'N'), ('C03980', 'N'), ('C03981', 'O'), ('C03982', 'N'), ('C03983', 'O'), ('C03984', 'O'), ('C03985', 'N'), ('C03986', 'N'), ('C03987', 'N'), ('C03988', 'N'), ('C03989', 'O'), ('C03990', 'N'), ('C03991', 'N'), ('C03992', 'O'), ('C03993', 'N'), ('C03994', 'O'), ('C03995', 'N'), ('C03996', 'O'), ('C03997', 'N'), ('C03998', 'N'), ('C03999', 'N')]\n"
     ]
    }
   ],
   "source": [
    "# Merge predictions with IDs\n",
    "preds = list(zip(test_ids, class_predictions))\n",
    "print(preds)"
   ]
  },
  {
   "cell_type": "code",
   "execution_count": 32,
   "metadata": {},
   "outputs": [
    {
     "data": {
      "text/html": [
       "<div>\n",
       "<style scoped>\n",
       "    .dataframe tbody tr th:only-of-type {\n",
       "        vertical-align: middle;\n",
       "    }\n",
       "\n",
       "    .dataframe tbody tr th {\n",
       "        vertical-align: top;\n",
       "    }\n",
       "\n",
       "    .dataframe thead th {\n",
       "        text-align: right;\n",
       "    }\n",
       "</style>\n",
       "<table border=\"1\" class=\"dataframe\">\n",
       "  <thead>\n",
       "    <tr style=\"text-align: right;\">\n",
       "      <th></th>\n",
       "      <th>ID</th>\n",
       "      <th>Predicted</th>\n",
       "    </tr>\n",
       "  </thead>\n",
       "  <tbody>\n",
       "    <tr>\n",
       "      <th>0</th>\n",
       "      <td>C00000</td>\n",
       "      <td>N</td>\n",
       "    </tr>\n",
       "    <tr>\n",
       "      <th>1</th>\n",
       "      <td>C00001</td>\n",
       "      <td>N</td>\n",
       "    </tr>\n",
       "    <tr>\n",
       "      <th>2</th>\n",
       "      <td>C00002</td>\n",
       "      <td>N</td>\n",
       "    </tr>\n",
       "    <tr>\n",
       "      <th>3</th>\n",
       "      <td>C00003</td>\n",
       "      <td>N</td>\n",
       "    </tr>\n",
       "    <tr>\n",
       "      <th>4</th>\n",
       "      <td>C00004</td>\n",
       "      <td>N</td>\n",
       "    </tr>\n",
       "  </tbody>\n",
       "</table>\n",
       "</div>"
      ],
      "text/plain": [
       "       ID Predicted\n",
       "0  C00000         N\n",
       "1  C00001         N\n",
       "2  C00002         N\n",
       "3  C00003         N\n",
       "4  C00004         N"
      ]
     },
     "execution_count": 32,
     "metadata": {},
     "output_type": "execute_result"
    }
   ],
   "source": [
    "# As dataframe\n",
    "predictions = pd.DataFrame(preds, columns=['ID', 'Predicted'])\n",
    "predictions.head()"
   ]
  },
  {
   "cell_type": "code",
   "execution_count": 33,
   "metadata": {},
   "outputs": [
    {
     "name": "stdout",
     "output_type": "stream",
     "text": [
      "          ID Predicted\n",
      "0     C00000         N\n",
      "1     C00001         N\n",
      "2     C00002         N\n",
      "3     C00003         N\n",
      "4     C00004         N\n",
      "...      ...       ...\n",
      "3995  C03995         N\n",
      "3996  C03996         O\n",
      "3997  C03997         N\n",
      "3998  C03998         N\n",
      "3999  C03999         N\n",
      "\n",
      "[4000 rows x 2 columns]\n"
     ]
    }
   ],
   "source": [
    "# Ensure Sorted by ID\n",
    "predictions.sort_values(by=['ID'], inplace=True)\n",
    "print(predictions)"
   ]
  },
  {
   "cell_type": "code",
   "execution_count": 34,
   "metadata": {},
   "outputs": [],
   "source": [
    "predictions.to_csv(\"submission_LSTM_FCN_input_shape_20_300.csv\", index=False)"
   ]
  },
  {
   "cell_type": "code",
   "execution_count": null,
   "metadata": {},
   "outputs": [],
   "source": []
  }
 ],
 "metadata": {
  "kernelspec": {
   "display_name": "Python 3",
   "language": "python",
   "name": "python3"
  },
  "language_info": {
   "codemirror_mode": {
    "name": "ipython",
    "version": 3
   },
   "file_extension": ".py",
   "mimetype": "text/x-python",
   "name": "python",
   "nbconvert_exporter": "python",
   "pygments_lexer": "ipython3",
   "version": "3.6.6"
  }
 },
 "nbformat": 4,
 "nbformat_minor": 4
}
